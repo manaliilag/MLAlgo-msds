{
 "cells": [
  {
   "cell_type": "code",
   "execution_count": 1,
   "id": "da0429b7",
   "metadata": {},
   "outputs": [],
   "source": [
    "from sklearn.datasets import make_classification\n",
    "from sklearn.linear_model import LogisticRegression\n",
    "X, y = make_classification(n_samples=1000, n_features=10, n_informative=5, n_redundant=5, n_classes=2, random_state=1)"
   ]
  },
  {
   "cell_type": "code",
   "execution_count": 2,
   "id": "7dfb54a1",
   "metadata": {},
   "outputs": [],
   "source": [
    "from sklearn.model_selection import train_test_split\n",
    "X_train, X_test, y_train, y_test = train_test_split(X, y, test_size=0.20, random_state=42)"
   ]
  },
  {
   "cell_type": "markdown",
   "id": "fc935d65",
   "metadata": {},
   "source": [
    "# Model Training HyperParameter Tuning\n",
    "## Grid Search CV"
   ]
  },
  {
   "cell_type": "code",
   "execution_count": 3,
   "id": "99fce0d2",
   "metadata": {},
   "outputs": [],
   "source": [
    "from sklearn.model_selection import GridSearchCV\n",
    "import warnings\n",
    "warnings.filterwarnings('ignore')"
   ]
  },
  {
   "cell_type": "code",
   "execution_count": 4,
   "id": "d7e0d3e4",
   "metadata": {},
   "outputs": [],
   "source": [
    "parameters={\n",
    "    'penalty':('l1', 'l2', 'elasticnet'),\n",
    "    'C' : [1,10,20,30],\n",
    "    'solver' : ( 'liblinear', 'newton-cg', 'newton-cholesky', 'sag', 'saga')\n",
    "}"
   ]
  },
  {
   "cell_type": "code",
   "execution_count": 5,
   "id": "33c28532",
   "metadata": {},
   "outputs": [],
   "source": [
    "# classifire = LogisticRegression(solver='saga', max_iter=1000)\n",
    "classifire = LogisticRegression()"
   ]
  },
  {
   "cell_type": "code",
   "execution_count": 6,
   "id": "3a61a0ee",
   "metadata": {},
   "outputs": [],
   "source": [
    "clf = GridSearchCV(classifire, param_grid=parameters, cv=5)"
   ]
  },
  {
   "cell_type": "code",
   "execution_count": 7,
   "id": "db9e40bd",
   "metadata": {},
   "outputs": [
    {
     "data": {
      "text/html": [
       "<style>#sk-container-id-1 {color: black;background-color: white;}#sk-container-id-1 pre{padding: 0;}#sk-container-id-1 div.sk-toggleable {background-color: white;}#sk-container-id-1 label.sk-toggleable__label {cursor: pointer;display: block;width: 100%;margin-bottom: 0;padding: 0.3em;box-sizing: border-box;text-align: center;}#sk-container-id-1 label.sk-toggleable__label-arrow:before {content: \"▸\";float: left;margin-right: 0.25em;color: #696969;}#sk-container-id-1 label.sk-toggleable__label-arrow:hover:before {color: black;}#sk-container-id-1 div.sk-estimator:hover label.sk-toggleable__label-arrow:before {color: black;}#sk-container-id-1 div.sk-toggleable__content {max-height: 0;max-width: 0;overflow: hidden;text-align: left;background-color: #f0f8ff;}#sk-container-id-1 div.sk-toggleable__content pre {margin: 0.2em;color: black;border-radius: 0.25em;background-color: #f0f8ff;}#sk-container-id-1 input.sk-toggleable__control:checked~div.sk-toggleable__content {max-height: 200px;max-width: 100%;overflow: auto;}#sk-container-id-1 input.sk-toggleable__control:checked~label.sk-toggleable__label-arrow:before {content: \"▾\";}#sk-container-id-1 div.sk-estimator input.sk-toggleable__control:checked~label.sk-toggleable__label {background-color: #d4ebff;}#sk-container-id-1 div.sk-label input.sk-toggleable__control:checked~label.sk-toggleable__label {background-color: #d4ebff;}#sk-container-id-1 input.sk-hidden--visually {border: 0;clip: rect(1px 1px 1px 1px);clip: rect(1px, 1px, 1px, 1px);height: 1px;margin: -1px;overflow: hidden;padding: 0;position: absolute;width: 1px;}#sk-container-id-1 div.sk-estimator {font-family: monospace;background-color: #f0f8ff;border: 1px dotted black;border-radius: 0.25em;box-sizing: border-box;margin-bottom: 0.5em;}#sk-container-id-1 div.sk-estimator:hover {background-color: #d4ebff;}#sk-container-id-1 div.sk-parallel-item::after {content: \"\";width: 100%;border-bottom: 1px solid gray;flex-grow: 1;}#sk-container-id-1 div.sk-label:hover label.sk-toggleable__label {background-color: #d4ebff;}#sk-container-id-1 div.sk-serial::before {content: \"\";position: absolute;border-left: 1px solid gray;box-sizing: border-box;top: 0;bottom: 0;left: 50%;z-index: 0;}#sk-container-id-1 div.sk-serial {display: flex;flex-direction: column;align-items: center;background-color: white;padding-right: 0.2em;padding-left: 0.2em;position: relative;}#sk-container-id-1 div.sk-item {position: relative;z-index: 1;}#sk-container-id-1 div.sk-parallel {display: flex;align-items: stretch;justify-content: center;background-color: white;position: relative;}#sk-container-id-1 div.sk-item::before, #sk-container-id-1 div.sk-parallel-item::before {content: \"\";position: absolute;border-left: 1px solid gray;box-sizing: border-box;top: 0;bottom: 0;left: 50%;z-index: -1;}#sk-container-id-1 div.sk-parallel-item {display: flex;flex-direction: column;z-index: 1;position: relative;background-color: white;}#sk-container-id-1 div.sk-parallel-item:first-child::after {align-self: flex-end;width: 50%;}#sk-container-id-1 div.sk-parallel-item:last-child::after {align-self: flex-start;width: 50%;}#sk-container-id-1 div.sk-parallel-item:only-child::after {width: 0;}#sk-container-id-1 div.sk-dashed-wrapped {border: 1px dashed gray;margin: 0 0.4em 0.5em 0.4em;box-sizing: border-box;padding-bottom: 0.4em;background-color: white;}#sk-container-id-1 div.sk-label label {font-family: monospace;font-weight: bold;display: inline-block;line-height: 1.2em;}#sk-container-id-1 div.sk-label-container {text-align: center;}#sk-container-id-1 div.sk-container {/* jupyter's `normalize.less` sets `[hidden] { display: none; }` but bootstrap.min.css set `[hidden] { display: none !important; }` so we also need the `!important` here to be able to override the default hidden behavior on the sphinx rendered scikit-learn.org. See: https://github.com/scikit-learn/scikit-learn/issues/21755 */display: inline-block !important;position: relative;}#sk-container-id-1 div.sk-text-repr-fallback {display: none;}</style><div id=\"sk-container-id-1\" class=\"sk-top-container\"><div class=\"sk-text-repr-fallback\"><pre>GridSearchCV(cv=5, estimator=LogisticRegression(),\n",
       "             param_grid={&#x27;C&#x27;: [1, 10, 20, 30],\n",
       "                         &#x27;penalty&#x27;: (&#x27;l1&#x27;, &#x27;l2&#x27;, &#x27;elasticnet&#x27;),\n",
       "                         &#x27;solver&#x27;: (&#x27;liblinear&#x27;, &#x27;newton-cg&#x27;, &#x27;newton-cholesky&#x27;,\n",
       "                                    &#x27;sag&#x27;, &#x27;saga&#x27;)})</pre><b>In a Jupyter environment, please rerun this cell to show the HTML representation or trust the notebook. <br />On GitHub, the HTML representation is unable to render, please try loading this page with nbviewer.org.</b></div><div class=\"sk-container\" hidden><div class=\"sk-item sk-dashed-wrapped\"><div class=\"sk-label-container\"><div class=\"sk-label sk-toggleable\"><input class=\"sk-toggleable__control sk-hidden--visually\" id=\"sk-estimator-id-1\" type=\"checkbox\" ><label for=\"sk-estimator-id-1\" class=\"sk-toggleable__label sk-toggleable__label-arrow\">GridSearchCV</label><div class=\"sk-toggleable__content\"><pre>GridSearchCV(cv=5, estimator=LogisticRegression(),\n",
       "             param_grid={&#x27;C&#x27;: [1, 10, 20, 30],\n",
       "                         &#x27;penalty&#x27;: (&#x27;l1&#x27;, &#x27;l2&#x27;, &#x27;elasticnet&#x27;),\n",
       "                         &#x27;solver&#x27;: (&#x27;liblinear&#x27;, &#x27;newton-cg&#x27;, &#x27;newton-cholesky&#x27;,\n",
       "                                    &#x27;sag&#x27;, &#x27;saga&#x27;)})</pre></div></div></div><div class=\"sk-parallel\"><div class=\"sk-parallel-item\"><div class=\"sk-item\"><div class=\"sk-label-container\"><div class=\"sk-label sk-toggleable\"><input class=\"sk-toggleable__control sk-hidden--visually\" id=\"sk-estimator-id-2\" type=\"checkbox\" ><label for=\"sk-estimator-id-2\" class=\"sk-toggleable__label sk-toggleable__label-arrow\">estimator: LogisticRegression</label><div class=\"sk-toggleable__content\"><pre>LogisticRegression()</pre></div></div></div><div class=\"sk-serial\"><div class=\"sk-item\"><div class=\"sk-estimator sk-toggleable\"><input class=\"sk-toggleable__control sk-hidden--visually\" id=\"sk-estimator-id-3\" type=\"checkbox\" ><label for=\"sk-estimator-id-3\" class=\"sk-toggleable__label sk-toggleable__label-arrow\">LogisticRegression</label><div class=\"sk-toggleable__content\"><pre>LogisticRegression()</pre></div></div></div></div></div></div></div></div></div></div>"
      ],
      "text/plain": [
       "GridSearchCV(cv=5, estimator=LogisticRegression(),\n",
       "             param_grid={'C': [1, 10, 20, 30],\n",
       "                         'penalty': ('l1', 'l2', 'elasticnet'),\n",
       "                         'solver': ('liblinear', 'newton-cg', 'newton-cholesky',\n",
       "                                    'sag', 'saga')})"
      ]
     },
     "execution_count": 7,
     "metadata": {},
     "output_type": "execute_result"
    }
   ],
   "source": [
    "# splitting of training data to train and validation\n",
    "clf.fit(X_train, y_train)"
   ]
  },
  {
   "cell_type": "code",
   "execution_count": 8,
   "id": "507bd749",
   "metadata": {},
   "outputs": [
    {
     "data": {
      "text/plain": [
       "{'C': 1, 'penalty': 'l1', 'solver': 'liblinear'}"
      ]
     },
     "execution_count": 8,
     "metadata": {},
     "output_type": "execute_result"
    }
   ],
   "source": [
    "clf.best_params_"
   ]
  },
  {
   "cell_type": "code",
   "execution_count": 9,
   "id": "822c19b0",
   "metadata": {},
   "outputs": [
    {
     "data": {
      "text/plain": [
       "0.8087500000000001"
      ]
     },
     "execution_count": 9,
     "metadata": {},
     "output_type": "execute_result"
    }
   ],
   "source": [
    "clf.best_score_"
   ]
  },
  {
   "cell_type": "code",
   "execution_count": 10,
   "id": "6e7fd1db",
   "metadata": {},
   "outputs": [],
   "source": [
    "# classifire1 = LogisticRegression(C=1,penalty='l1', solver='saga', max_iter=100 )\n",
    "classifire1 = LogisticRegression(C=1,penalty='l1', solver= 'liblinear', max_iter=100 )"
   ]
  },
  {
   "cell_type": "code",
   "execution_count": 11,
   "id": "b86f4897",
   "metadata": {},
   "outputs": [
    {
     "data": {
      "text/html": [
       "<style>#sk-container-id-2 {color: black;background-color: white;}#sk-container-id-2 pre{padding: 0;}#sk-container-id-2 div.sk-toggleable {background-color: white;}#sk-container-id-2 label.sk-toggleable__label {cursor: pointer;display: block;width: 100%;margin-bottom: 0;padding: 0.3em;box-sizing: border-box;text-align: center;}#sk-container-id-2 label.sk-toggleable__label-arrow:before {content: \"▸\";float: left;margin-right: 0.25em;color: #696969;}#sk-container-id-2 label.sk-toggleable__label-arrow:hover:before {color: black;}#sk-container-id-2 div.sk-estimator:hover label.sk-toggleable__label-arrow:before {color: black;}#sk-container-id-2 div.sk-toggleable__content {max-height: 0;max-width: 0;overflow: hidden;text-align: left;background-color: #f0f8ff;}#sk-container-id-2 div.sk-toggleable__content pre {margin: 0.2em;color: black;border-radius: 0.25em;background-color: #f0f8ff;}#sk-container-id-2 input.sk-toggleable__control:checked~div.sk-toggleable__content {max-height: 200px;max-width: 100%;overflow: auto;}#sk-container-id-2 input.sk-toggleable__control:checked~label.sk-toggleable__label-arrow:before {content: \"▾\";}#sk-container-id-2 div.sk-estimator input.sk-toggleable__control:checked~label.sk-toggleable__label {background-color: #d4ebff;}#sk-container-id-2 div.sk-label input.sk-toggleable__control:checked~label.sk-toggleable__label {background-color: #d4ebff;}#sk-container-id-2 input.sk-hidden--visually {border: 0;clip: rect(1px 1px 1px 1px);clip: rect(1px, 1px, 1px, 1px);height: 1px;margin: -1px;overflow: hidden;padding: 0;position: absolute;width: 1px;}#sk-container-id-2 div.sk-estimator {font-family: monospace;background-color: #f0f8ff;border: 1px dotted black;border-radius: 0.25em;box-sizing: border-box;margin-bottom: 0.5em;}#sk-container-id-2 div.sk-estimator:hover {background-color: #d4ebff;}#sk-container-id-2 div.sk-parallel-item::after {content: \"\";width: 100%;border-bottom: 1px solid gray;flex-grow: 1;}#sk-container-id-2 div.sk-label:hover label.sk-toggleable__label {background-color: #d4ebff;}#sk-container-id-2 div.sk-serial::before {content: \"\";position: absolute;border-left: 1px solid gray;box-sizing: border-box;top: 0;bottom: 0;left: 50%;z-index: 0;}#sk-container-id-2 div.sk-serial {display: flex;flex-direction: column;align-items: center;background-color: white;padding-right: 0.2em;padding-left: 0.2em;position: relative;}#sk-container-id-2 div.sk-item {position: relative;z-index: 1;}#sk-container-id-2 div.sk-parallel {display: flex;align-items: stretch;justify-content: center;background-color: white;position: relative;}#sk-container-id-2 div.sk-item::before, #sk-container-id-2 div.sk-parallel-item::before {content: \"\";position: absolute;border-left: 1px solid gray;box-sizing: border-box;top: 0;bottom: 0;left: 50%;z-index: -1;}#sk-container-id-2 div.sk-parallel-item {display: flex;flex-direction: column;z-index: 1;position: relative;background-color: white;}#sk-container-id-2 div.sk-parallel-item:first-child::after {align-self: flex-end;width: 50%;}#sk-container-id-2 div.sk-parallel-item:last-child::after {align-self: flex-start;width: 50%;}#sk-container-id-2 div.sk-parallel-item:only-child::after {width: 0;}#sk-container-id-2 div.sk-dashed-wrapped {border: 1px dashed gray;margin: 0 0.4em 0.5em 0.4em;box-sizing: border-box;padding-bottom: 0.4em;background-color: white;}#sk-container-id-2 div.sk-label label {font-family: monospace;font-weight: bold;display: inline-block;line-height: 1.2em;}#sk-container-id-2 div.sk-label-container {text-align: center;}#sk-container-id-2 div.sk-container {/* jupyter's `normalize.less` sets `[hidden] { display: none; }` but bootstrap.min.css set `[hidden] { display: none !important; }` so we also need the `!important` here to be able to override the default hidden behavior on the sphinx rendered scikit-learn.org. See: https://github.com/scikit-learn/scikit-learn/issues/21755 */display: inline-block !important;position: relative;}#sk-container-id-2 div.sk-text-repr-fallback {display: none;}</style><div id=\"sk-container-id-2\" class=\"sk-top-container\"><div class=\"sk-text-repr-fallback\"><pre>LogisticRegression(C=1, penalty=&#x27;l1&#x27;, solver=&#x27;liblinear&#x27;)</pre><b>In a Jupyter environment, please rerun this cell to show the HTML representation or trust the notebook. <br />On GitHub, the HTML representation is unable to render, please try loading this page with nbviewer.org.</b></div><div class=\"sk-container\" hidden><div class=\"sk-item\"><div class=\"sk-estimator sk-toggleable\"><input class=\"sk-toggleable__control sk-hidden--visually\" id=\"sk-estimator-id-4\" type=\"checkbox\" checked><label for=\"sk-estimator-id-4\" class=\"sk-toggleable__label sk-toggleable__label-arrow\">LogisticRegression</label><div class=\"sk-toggleable__content\"><pre>LogisticRegression(C=1, penalty=&#x27;l1&#x27;, solver=&#x27;liblinear&#x27;)</pre></div></div></div></div></div>"
      ],
      "text/plain": [
       "LogisticRegression(C=1, penalty='l1', solver='liblinear')"
      ]
     },
     "execution_count": 11,
     "metadata": {},
     "output_type": "execute_result"
    }
   ],
   "source": [
    "classifire1.fit(X_train, y_train)"
   ]
  },
  {
   "cell_type": "code",
   "execution_count": 12,
   "id": "beaf6ecd",
   "metadata": {},
   "outputs": [],
   "source": [
    "y_pred = classifire1.predict(X_test)"
   ]
  },
  {
   "cell_type": "code",
   "execution_count": 13,
   "id": "67e8199b",
   "metadata": {},
   "outputs": [
    {
     "data": {
      "text/plain": [
       "array([0, 1, 1, 1, 0, 0, 0, 1, 0, 1, 1, 0, 0, 0, 1, 1, 0, 0, 1, 1, 0, 0,\n",
       "       0, 0, 1, 1, 0, 1, 1, 0, 0, 0, 1, 1, 0, 1, 0, 0, 1, 0, 0, 1, 0, 0,\n",
       "       1, 1, 1, 1, 1, 1, 0, 0, 1, 1, 0, 1, 0, 1, 1, 1, 0, 1, 0, 1, 0, 0,\n",
       "       0, 1, 0, 0, 1, 0, 0, 0, 1, 0, 0, 0, 1, 1, 0, 1, 0, 1, 0, 1, 0, 0,\n",
       "       0, 0, 0, 0, 1, 0, 1, 0, 1, 0, 0, 1, 1, 0, 1, 0, 1, 0, 1, 0, 1, 0,\n",
       "       0, 0, 0, 0, 0, 1, 1, 1, 1, 1, 1, 1, 0, 1, 0, 0, 0, 1, 0, 0, 0, 0,\n",
       "       1, 0, 0, 0, 1, 1, 1, 0, 0, 0, 0, 1, 0, 0, 0, 1, 1, 1, 0, 0, 0, 0,\n",
       "       0, 0, 1, 1, 0, 1, 1, 0, 0, 1, 1, 0, 0, 1, 1, 0, 0, 1, 1, 0, 1, 1,\n",
       "       0, 1, 1, 0, 1, 1, 0, 0, 1, 0, 1, 1, 0, 1, 0, 1, 1, 1, 0, 1, 0, 1,\n",
       "       0, 1])"
      ]
     },
     "execution_count": 13,
     "metadata": {},
     "output_type": "execute_result"
    }
   ],
   "source": [
    "y_pred"
   ]
  },
  {
   "cell_type": "code",
   "execution_count": 14,
   "id": "527f9c2e",
   "metadata": {},
   "outputs": [
    {
     "data": {
      "text/plain": [
       "array([[0.71277114, 0.28722886],\n",
       "       [0.19794505, 0.80205495],\n",
       "       [0.12355277, 0.87644723],\n",
       "       [0.04978831, 0.95021169],\n",
       "       [0.88464845, 0.11535155],\n",
       "       [0.74786993, 0.25213007],\n",
       "       [0.97855728, 0.02144272],\n",
       "       [0.39399882, 0.60600118],\n",
       "       [0.59962418, 0.40037582],\n",
       "       [0.39372156, 0.60627844],\n",
       "       [0.20466739, 0.79533261],\n",
       "       [0.80032863, 0.19967137],\n",
       "       [0.86077268, 0.13922732],\n",
       "       [0.92411984, 0.07588016],\n",
       "       [0.00133415, 0.99866585],\n",
       "       [0.04200798, 0.95799202],\n",
       "       [0.56012344, 0.43987656],\n",
       "       [0.8894957 , 0.1105043 ],\n",
       "       [0.29226795, 0.70773205],\n",
       "       [0.00855934, 0.99144066],\n",
       "       [0.71785709, 0.28214291],\n",
       "       [0.50815991, 0.49184009],\n",
       "       [0.76029512, 0.23970488],\n",
       "       [0.73031083, 0.26968917],\n",
       "       [0.102614  , 0.897386  ],\n",
       "       [0.04056394, 0.95943606],\n",
       "       [0.57569646, 0.42430354],\n",
       "       [0.00552802, 0.99447198],\n",
       "       [0.03121927, 0.96878073],\n",
       "       [0.95911215, 0.04088785],\n",
       "       [0.85151454, 0.14848546],\n",
       "       [0.78734084, 0.21265916],\n",
       "       [0.39147641, 0.60852359],\n",
       "       [0.41231585, 0.58768415],\n",
       "       [0.98123881, 0.01876119],\n",
       "       [0.0480611 , 0.9519389 ],\n",
       "       [0.56923561, 0.43076439],\n",
       "       [0.77502052, 0.22497948],\n",
       "       [0.07939175, 0.92060825],\n",
       "       [0.88982934, 0.11017066],\n",
       "       [0.9106381 , 0.0893619 ],\n",
       "       [0.03690367, 0.96309633],\n",
       "       [0.77211633, 0.22788367],\n",
       "       [0.82399106, 0.17600894],\n",
       "       [0.27279757, 0.72720243],\n",
       "       [0.40764514, 0.59235486],\n",
       "       [0.41415561, 0.58584439],\n",
       "       [0.30338358, 0.69661642],\n",
       "       [0.23182024, 0.76817976],\n",
       "       [0.43428041, 0.56571959],\n",
       "       [0.71974283, 0.28025717],\n",
       "       [0.62006133, 0.37993867],\n",
       "       [0.20406691, 0.79593309],\n",
       "       [0.05326412, 0.94673588],\n",
       "       [0.77498582, 0.22501418],\n",
       "       [0.12060245, 0.87939755],\n",
       "       [0.83753047, 0.16246953],\n",
       "       [0.06111151, 0.93888849],\n",
       "       [0.03089637, 0.96910363],\n",
       "       [0.02244643, 0.97755357],\n",
       "       [0.56428629, 0.43571371],\n",
       "       [0.35941536, 0.64058464],\n",
       "       [0.54901836, 0.45098164],\n",
       "       [0.15511317, 0.84488683],\n",
       "       [0.75813964, 0.24186036],\n",
       "       [0.62555378, 0.37444622],\n",
       "       [0.59601711, 0.40398289],\n",
       "       [0.00277078, 0.99722922],\n",
       "       [0.83283776, 0.16716224],\n",
       "       [0.59729982, 0.40270018],\n",
       "       [0.14158565, 0.85841435],\n",
       "       [0.83771726, 0.16228274],\n",
       "       [0.96580851, 0.03419149],\n",
       "       [0.84406243, 0.15593757],\n",
       "       [0.03608481, 0.96391519],\n",
       "       [0.96195147, 0.03804853],\n",
       "       [0.74508992, 0.25491008],\n",
       "       [0.69483757, 0.30516243],\n",
       "       [0.48466425, 0.51533575],\n",
       "       [0.00371101, 0.99628899],\n",
       "       [0.78327776, 0.21672224],\n",
       "       [0.06464926, 0.93535074],\n",
       "       [0.57686833, 0.42313167],\n",
       "       [0.05126262, 0.94873738],\n",
       "       [0.90256548, 0.09743452],\n",
       "       [0.06773907, 0.93226093],\n",
       "       [0.67050907, 0.32949093],\n",
       "       [0.92398119, 0.07601881],\n",
       "       [0.55146208, 0.44853792],\n",
       "       [0.74577885, 0.25422115],\n",
       "       [0.77157598, 0.22842402],\n",
       "       [0.63618155, 0.36381845],\n",
       "       [0.01459477, 0.98540523],\n",
       "       [0.52369613, 0.47630387],\n",
       "       [0.02085725, 0.97914275],\n",
       "       [0.83682798, 0.16317202],\n",
       "       [0.01955989, 0.98044011],\n",
       "       [0.60822292, 0.39177708],\n",
       "       [0.92532209, 0.07467791],\n",
       "       [0.11631814, 0.88368186],\n",
       "       [0.00356231, 0.99643769],\n",
       "       [0.58192276, 0.41807724],\n",
       "       [0.28579934, 0.71420066],\n",
       "       [0.69219208, 0.30780792],\n",
       "       [0.06413225, 0.93586775],\n",
       "       [0.97388388, 0.02611612],\n",
       "       [0.1124104 , 0.8875896 ],\n",
       "       [0.75518502, 0.24481498],\n",
       "       [0.00322239, 0.99677761],\n",
       "       [0.56017999, 0.43982001],\n",
       "       [0.56801184, 0.43198816],\n",
       "       [0.91308328, 0.08691672],\n",
       "       [0.51835159, 0.48164841],\n",
       "       [0.90600597, 0.09399403],\n",
       "       [0.52938057, 0.47061943],\n",
       "       [0.00327973, 0.99672027],\n",
       "       [0.04143081, 0.95856919],\n",
       "       [0.13293671, 0.86706329],\n",
       "       [0.14746851, 0.85253149],\n",
       "       [0.34386217, 0.65613783],\n",
       "       [0.04112026, 0.95887974],\n",
       "       [0.10044998, 0.89955002],\n",
       "       [0.85235041, 0.14764959],\n",
       "       [0.1133296 , 0.8866704 ],\n",
       "       [0.54978412, 0.45021588],\n",
       "       [0.88664859, 0.11335141],\n",
       "       [0.88812649, 0.11187351],\n",
       "       [0.12998008, 0.87001992],\n",
       "       [0.90560142, 0.09439858],\n",
       "       [0.74734184, 0.25265816],\n",
       "       [0.75761535, 0.24238465],\n",
       "       [0.76500278, 0.23499722],\n",
       "       [0.46637926, 0.53362074],\n",
       "       [0.94955099, 0.05044901],\n",
       "       [0.98227826, 0.01772174],\n",
       "       [0.92812496, 0.07187504],\n",
       "       [0.03609592, 0.96390408],\n",
       "       [0.49657081, 0.50342919],\n",
       "       [0.36897071, 0.63102929],\n",
       "       [0.84497221, 0.15502779],\n",
       "       [0.86055771, 0.13944229],\n",
       "       [0.52653168, 0.47346832],\n",
       "       [0.95268659, 0.04731341],\n",
       "       [0.41740931, 0.58259069],\n",
       "       [0.96101548, 0.03898452],\n",
       "       [0.99076236, 0.00923764],\n",
       "       [0.7021343 , 0.2978657 ],\n",
       "       [0.06546546, 0.93453454],\n",
       "       [0.05215573, 0.94784427],\n",
       "       [0.02039201, 0.97960799],\n",
       "       [0.84160448, 0.15839552],\n",
       "       [0.95375468, 0.04624532],\n",
       "       [0.78577768, 0.21422232],\n",
       "       [0.97359794, 0.02640206],\n",
       "       [0.77155641, 0.22844359],\n",
       "       [0.9278444 , 0.0721556 ],\n",
       "       [0.04239373, 0.95760627],\n",
       "       [0.24133381, 0.75866619],\n",
       "       [0.69534665, 0.30465335],\n",
       "       [0.05837953, 0.94162047],\n",
       "       [0.04994163, 0.95005837],\n",
       "       [0.88971444, 0.11028556],\n",
       "       [0.82832885, 0.17167115],\n",
       "       [0.3842391 , 0.6157609 ],\n",
       "       [0.01881156, 0.98118844],\n",
       "       [0.82137129, 0.17862871],\n",
       "       [0.78252592, 0.21747408],\n",
       "       [0.03132779, 0.96867221],\n",
       "       [0.08305815, 0.91694185],\n",
       "       [0.77311146, 0.22688854],\n",
       "       [0.92853229, 0.07146771],\n",
       "       [0.01256809, 0.98743191],\n",
       "       [0.11241169, 0.88758831],\n",
       "       [0.79809412, 0.20190588],\n",
       "       [0.01125248, 0.98874752],\n",
       "       [0.04525071, 0.95474929],\n",
       "       [0.98123488, 0.01876512],\n",
       "       [0.03220568, 0.96779432],\n",
       "       [0.26028398, 0.73971602],\n",
       "       [0.81689111, 0.18310889],\n",
       "       [0.39870728, 0.60129272],\n",
       "       [0.37740883, 0.62259117],\n",
       "       [0.77534122, 0.22465878],\n",
       "       [0.7370065 , 0.2629935 ],\n",
       "       [0.4590035 , 0.5409965 ],\n",
       "       [0.53432866, 0.46567134],\n",
       "       [0.03747514, 0.96252486],\n",
       "       [0.00868868, 0.99131132],\n",
       "       [0.91371327, 0.08628673],\n",
       "       [0.1173898 , 0.8826102 ],\n",
       "       [0.61141328, 0.38858672],\n",
       "       [0.03516058, 0.96483942],\n",
       "       [0.01610738, 0.98389262],\n",
       "       [0.06675457, 0.93324543],\n",
       "       [0.89774615, 0.10225385],\n",
       "       [0.05074014, 0.94925986],\n",
       "       [0.87224334, 0.12775666],\n",
       "       [0.02147319, 0.97852681],\n",
       "       [0.63907789, 0.36092211],\n",
       "       [0.00993671, 0.99006329]])"
      ]
     },
     "execution_count": 14,
     "metadata": {},
     "output_type": "execute_result"
    }
   ],
   "source": [
    "classifire1.predict_proba(X_test)"
   ]
  },
  {
   "cell_type": "code",
   "execution_count": 15,
   "id": "9beeb55f",
   "metadata": {},
   "outputs": [],
   "source": [
    "from sklearn.metrics import confusion_matrix, accuracy_score, classification_report"
   ]
  },
  {
   "cell_type": "code",
   "execution_count": 16,
   "id": "8a52b3b2",
   "metadata": {},
   "outputs": [
    {
     "name": "stdout",
     "output_type": "stream",
     "text": [
      "[[78 13]\n",
      " [29 80]]\n",
      "0.79\n",
      "              precision    recall  f1-score   support\n",
      "\n",
      "           0       0.73      0.86      0.79        91\n",
      "           1       0.86      0.73      0.79       109\n",
      "\n",
      "    accuracy                           0.79       200\n",
      "   macro avg       0.79      0.80      0.79       200\n",
      "weighted avg       0.80      0.79      0.79       200\n",
      "\n"
     ]
    }
   ],
   "source": [
    "print(confusion_matrix(y_test,y_pred))\n",
    "print(accuracy_score(y_test,y_pred))\n",
    "print(classification_report(y_test,y_pred))"
   ]
  },
  {
   "cell_type": "markdown",
   "id": "cae6bcad",
   "metadata": {},
   "source": [
    "## RandomizedSearchCV"
   ]
  },
  {
   "cell_type": "code",
   "execution_count": 19,
   "id": "37c07ef4",
   "metadata": {},
   "outputs": [],
   "source": [
    "## randomize Search cv\n",
    "from sklearn.model_selection import RandomizedSearchCV"
   ]
  },
  {
   "cell_type": "code",
   "execution_count": 21,
   "id": "8c8ae74b",
   "metadata": {},
   "outputs": [],
   "source": [
    "random_clf = RandomizedSearchCV(LogisticRegression(), param_distributions=parameters, cv=5, n_iter=20)"
   ]
  },
  {
   "cell_type": "code",
   "execution_count": 22,
   "id": "393be504",
   "metadata": {},
   "outputs": [
    {
     "data": {
      "text/html": [
       "<style>#sk-container-id-4 {color: black;background-color: white;}#sk-container-id-4 pre{padding: 0;}#sk-container-id-4 div.sk-toggleable {background-color: white;}#sk-container-id-4 label.sk-toggleable__label {cursor: pointer;display: block;width: 100%;margin-bottom: 0;padding: 0.3em;box-sizing: border-box;text-align: center;}#sk-container-id-4 label.sk-toggleable__label-arrow:before {content: \"▸\";float: left;margin-right: 0.25em;color: #696969;}#sk-container-id-4 label.sk-toggleable__label-arrow:hover:before {color: black;}#sk-container-id-4 div.sk-estimator:hover label.sk-toggleable__label-arrow:before {color: black;}#sk-container-id-4 div.sk-toggleable__content {max-height: 0;max-width: 0;overflow: hidden;text-align: left;background-color: #f0f8ff;}#sk-container-id-4 div.sk-toggleable__content pre {margin: 0.2em;color: black;border-radius: 0.25em;background-color: #f0f8ff;}#sk-container-id-4 input.sk-toggleable__control:checked~div.sk-toggleable__content {max-height: 200px;max-width: 100%;overflow: auto;}#sk-container-id-4 input.sk-toggleable__control:checked~label.sk-toggleable__label-arrow:before {content: \"▾\";}#sk-container-id-4 div.sk-estimator input.sk-toggleable__control:checked~label.sk-toggleable__label {background-color: #d4ebff;}#sk-container-id-4 div.sk-label input.sk-toggleable__control:checked~label.sk-toggleable__label {background-color: #d4ebff;}#sk-container-id-4 input.sk-hidden--visually {border: 0;clip: rect(1px 1px 1px 1px);clip: rect(1px, 1px, 1px, 1px);height: 1px;margin: -1px;overflow: hidden;padding: 0;position: absolute;width: 1px;}#sk-container-id-4 div.sk-estimator {font-family: monospace;background-color: #f0f8ff;border: 1px dotted black;border-radius: 0.25em;box-sizing: border-box;margin-bottom: 0.5em;}#sk-container-id-4 div.sk-estimator:hover {background-color: #d4ebff;}#sk-container-id-4 div.sk-parallel-item::after {content: \"\";width: 100%;border-bottom: 1px solid gray;flex-grow: 1;}#sk-container-id-4 div.sk-label:hover label.sk-toggleable__label {background-color: #d4ebff;}#sk-container-id-4 div.sk-serial::before {content: \"\";position: absolute;border-left: 1px solid gray;box-sizing: border-box;top: 0;bottom: 0;left: 50%;z-index: 0;}#sk-container-id-4 div.sk-serial {display: flex;flex-direction: column;align-items: center;background-color: white;padding-right: 0.2em;padding-left: 0.2em;position: relative;}#sk-container-id-4 div.sk-item {position: relative;z-index: 1;}#sk-container-id-4 div.sk-parallel {display: flex;align-items: stretch;justify-content: center;background-color: white;position: relative;}#sk-container-id-4 div.sk-item::before, #sk-container-id-4 div.sk-parallel-item::before {content: \"\";position: absolute;border-left: 1px solid gray;box-sizing: border-box;top: 0;bottom: 0;left: 50%;z-index: -1;}#sk-container-id-4 div.sk-parallel-item {display: flex;flex-direction: column;z-index: 1;position: relative;background-color: white;}#sk-container-id-4 div.sk-parallel-item:first-child::after {align-self: flex-end;width: 50%;}#sk-container-id-4 div.sk-parallel-item:last-child::after {align-self: flex-start;width: 50%;}#sk-container-id-4 div.sk-parallel-item:only-child::after {width: 0;}#sk-container-id-4 div.sk-dashed-wrapped {border: 1px dashed gray;margin: 0 0.4em 0.5em 0.4em;box-sizing: border-box;padding-bottom: 0.4em;background-color: white;}#sk-container-id-4 div.sk-label label {font-family: monospace;font-weight: bold;display: inline-block;line-height: 1.2em;}#sk-container-id-4 div.sk-label-container {text-align: center;}#sk-container-id-4 div.sk-container {/* jupyter's `normalize.less` sets `[hidden] { display: none; }` but bootstrap.min.css set `[hidden] { display: none !important; }` so we also need the `!important` here to be able to override the default hidden behavior on the sphinx rendered scikit-learn.org. See: https://github.com/scikit-learn/scikit-learn/issues/21755 */display: inline-block !important;position: relative;}#sk-container-id-4 div.sk-text-repr-fallback {display: none;}</style><div id=\"sk-container-id-4\" class=\"sk-top-container\"><div class=\"sk-text-repr-fallback\"><pre>RandomizedSearchCV(cv=5, estimator=LogisticRegression(), n_iter=20,\n",
       "                   param_distributions={&#x27;C&#x27;: [1, 10, 20, 30],\n",
       "                                        &#x27;penalty&#x27;: (&#x27;l1&#x27;, &#x27;l2&#x27;, &#x27;elasticnet&#x27;),\n",
       "                                        &#x27;solver&#x27;: (&#x27;liblinear&#x27;, &#x27;newton-cg&#x27;,\n",
       "                                                   &#x27;newton-cholesky&#x27;, &#x27;sag&#x27;,\n",
       "                                                   &#x27;saga&#x27;)})</pre><b>In a Jupyter environment, please rerun this cell to show the HTML representation or trust the notebook. <br />On GitHub, the HTML representation is unable to render, please try loading this page with nbviewer.org.</b></div><div class=\"sk-container\" hidden><div class=\"sk-item sk-dashed-wrapped\"><div class=\"sk-label-container\"><div class=\"sk-label sk-toggleable\"><input class=\"sk-toggleable__control sk-hidden--visually\" id=\"sk-estimator-id-8\" type=\"checkbox\" ><label for=\"sk-estimator-id-8\" class=\"sk-toggleable__label sk-toggleable__label-arrow\">RandomizedSearchCV</label><div class=\"sk-toggleable__content\"><pre>RandomizedSearchCV(cv=5, estimator=LogisticRegression(), n_iter=20,\n",
       "                   param_distributions={&#x27;C&#x27;: [1, 10, 20, 30],\n",
       "                                        &#x27;penalty&#x27;: (&#x27;l1&#x27;, &#x27;l2&#x27;, &#x27;elasticnet&#x27;),\n",
       "                                        &#x27;solver&#x27;: (&#x27;liblinear&#x27;, &#x27;newton-cg&#x27;,\n",
       "                                                   &#x27;newton-cholesky&#x27;, &#x27;sag&#x27;,\n",
       "                                                   &#x27;saga&#x27;)})</pre></div></div></div><div class=\"sk-parallel\"><div class=\"sk-parallel-item\"><div class=\"sk-item\"><div class=\"sk-label-container\"><div class=\"sk-label sk-toggleable\"><input class=\"sk-toggleable__control sk-hidden--visually\" id=\"sk-estimator-id-9\" type=\"checkbox\" ><label for=\"sk-estimator-id-9\" class=\"sk-toggleable__label sk-toggleable__label-arrow\">estimator: LogisticRegression</label><div class=\"sk-toggleable__content\"><pre>LogisticRegression()</pre></div></div></div><div class=\"sk-serial\"><div class=\"sk-item\"><div class=\"sk-estimator sk-toggleable\"><input class=\"sk-toggleable__control sk-hidden--visually\" id=\"sk-estimator-id-10\" type=\"checkbox\" ><label for=\"sk-estimator-id-10\" class=\"sk-toggleable__label sk-toggleable__label-arrow\">LogisticRegression</label><div class=\"sk-toggleable__content\"><pre>LogisticRegression()</pre></div></div></div></div></div></div></div></div></div></div>"
      ],
      "text/plain": [
       "RandomizedSearchCV(cv=5, estimator=LogisticRegression(), n_iter=20,\n",
       "                   param_distributions={'C': [1, 10, 20, 30],\n",
       "                                        'penalty': ('l1', 'l2', 'elasticnet'),\n",
       "                                        'solver': ('liblinear', 'newton-cg',\n",
       "                                                   'newton-cholesky', 'sag',\n",
       "                                                   'saga')})"
      ]
     },
     "execution_count": 22,
     "metadata": {},
     "output_type": "execute_result"
    }
   ],
   "source": [
    "random_clf"
   ]
  },
  {
   "cell_type": "code",
   "execution_count": 23,
   "id": "3e42ea7a",
   "metadata": {},
   "outputs": [
    {
     "data": {
      "text/html": [
       "<style>#sk-container-id-5 {color: black;background-color: white;}#sk-container-id-5 pre{padding: 0;}#sk-container-id-5 div.sk-toggleable {background-color: white;}#sk-container-id-5 label.sk-toggleable__label {cursor: pointer;display: block;width: 100%;margin-bottom: 0;padding: 0.3em;box-sizing: border-box;text-align: center;}#sk-container-id-5 label.sk-toggleable__label-arrow:before {content: \"▸\";float: left;margin-right: 0.25em;color: #696969;}#sk-container-id-5 label.sk-toggleable__label-arrow:hover:before {color: black;}#sk-container-id-5 div.sk-estimator:hover label.sk-toggleable__label-arrow:before {color: black;}#sk-container-id-5 div.sk-toggleable__content {max-height: 0;max-width: 0;overflow: hidden;text-align: left;background-color: #f0f8ff;}#sk-container-id-5 div.sk-toggleable__content pre {margin: 0.2em;color: black;border-radius: 0.25em;background-color: #f0f8ff;}#sk-container-id-5 input.sk-toggleable__control:checked~div.sk-toggleable__content {max-height: 200px;max-width: 100%;overflow: auto;}#sk-container-id-5 input.sk-toggleable__control:checked~label.sk-toggleable__label-arrow:before {content: \"▾\";}#sk-container-id-5 div.sk-estimator input.sk-toggleable__control:checked~label.sk-toggleable__label {background-color: #d4ebff;}#sk-container-id-5 div.sk-label input.sk-toggleable__control:checked~label.sk-toggleable__label {background-color: #d4ebff;}#sk-container-id-5 input.sk-hidden--visually {border: 0;clip: rect(1px 1px 1px 1px);clip: rect(1px, 1px, 1px, 1px);height: 1px;margin: -1px;overflow: hidden;padding: 0;position: absolute;width: 1px;}#sk-container-id-5 div.sk-estimator {font-family: monospace;background-color: #f0f8ff;border: 1px dotted black;border-radius: 0.25em;box-sizing: border-box;margin-bottom: 0.5em;}#sk-container-id-5 div.sk-estimator:hover {background-color: #d4ebff;}#sk-container-id-5 div.sk-parallel-item::after {content: \"\";width: 100%;border-bottom: 1px solid gray;flex-grow: 1;}#sk-container-id-5 div.sk-label:hover label.sk-toggleable__label {background-color: #d4ebff;}#sk-container-id-5 div.sk-serial::before {content: \"\";position: absolute;border-left: 1px solid gray;box-sizing: border-box;top: 0;bottom: 0;left: 50%;z-index: 0;}#sk-container-id-5 div.sk-serial {display: flex;flex-direction: column;align-items: center;background-color: white;padding-right: 0.2em;padding-left: 0.2em;position: relative;}#sk-container-id-5 div.sk-item {position: relative;z-index: 1;}#sk-container-id-5 div.sk-parallel {display: flex;align-items: stretch;justify-content: center;background-color: white;position: relative;}#sk-container-id-5 div.sk-item::before, #sk-container-id-5 div.sk-parallel-item::before {content: \"\";position: absolute;border-left: 1px solid gray;box-sizing: border-box;top: 0;bottom: 0;left: 50%;z-index: -1;}#sk-container-id-5 div.sk-parallel-item {display: flex;flex-direction: column;z-index: 1;position: relative;background-color: white;}#sk-container-id-5 div.sk-parallel-item:first-child::after {align-self: flex-end;width: 50%;}#sk-container-id-5 div.sk-parallel-item:last-child::after {align-self: flex-start;width: 50%;}#sk-container-id-5 div.sk-parallel-item:only-child::after {width: 0;}#sk-container-id-5 div.sk-dashed-wrapped {border: 1px dashed gray;margin: 0 0.4em 0.5em 0.4em;box-sizing: border-box;padding-bottom: 0.4em;background-color: white;}#sk-container-id-5 div.sk-label label {font-family: monospace;font-weight: bold;display: inline-block;line-height: 1.2em;}#sk-container-id-5 div.sk-label-container {text-align: center;}#sk-container-id-5 div.sk-container {/* jupyter's `normalize.less` sets `[hidden] { display: none; }` but bootstrap.min.css set `[hidden] { display: none !important; }` so we also need the `!important` here to be able to override the default hidden behavior on the sphinx rendered scikit-learn.org. See: https://github.com/scikit-learn/scikit-learn/issues/21755 */display: inline-block !important;position: relative;}#sk-container-id-5 div.sk-text-repr-fallback {display: none;}</style><div id=\"sk-container-id-5\" class=\"sk-top-container\"><div class=\"sk-text-repr-fallback\"><pre>RandomizedSearchCV(cv=5, estimator=LogisticRegression(), n_iter=20,\n",
       "                   param_distributions={&#x27;C&#x27;: [1, 10, 20, 30],\n",
       "                                        &#x27;penalty&#x27;: (&#x27;l1&#x27;, &#x27;l2&#x27;, &#x27;elasticnet&#x27;),\n",
       "                                        &#x27;solver&#x27;: (&#x27;liblinear&#x27;, &#x27;newton-cg&#x27;,\n",
       "                                                   &#x27;newton-cholesky&#x27;, &#x27;sag&#x27;,\n",
       "                                                   &#x27;saga&#x27;)})</pre><b>In a Jupyter environment, please rerun this cell to show the HTML representation or trust the notebook. <br />On GitHub, the HTML representation is unable to render, please try loading this page with nbviewer.org.</b></div><div class=\"sk-container\" hidden><div class=\"sk-item sk-dashed-wrapped\"><div class=\"sk-label-container\"><div class=\"sk-label sk-toggleable\"><input class=\"sk-toggleable__control sk-hidden--visually\" id=\"sk-estimator-id-11\" type=\"checkbox\" ><label for=\"sk-estimator-id-11\" class=\"sk-toggleable__label sk-toggleable__label-arrow\">RandomizedSearchCV</label><div class=\"sk-toggleable__content\"><pre>RandomizedSearchCV(cv=5, estimator=LogisticRegression(), n_iter=20,\n",
       "                   param_distributions={&#x27;C&#x27;: [1, 10, 20, 30],\n",
       "                                        &#x27;penalty&#x27;: (&#x27;l1&#x27;, &#x27;l2&#x27;, &#x27;elasticnet&#x27;),\n",
       "                                        &#x27;solver&#x27;: (&#x27;liblinear&#x27;, &#x27;newton-cg&#x27;,\n",
       "                                                   &#x27;newton-cholesky&#x27;, &#x27;sag&#x27;,\n",
       "                                                   &#x27;saga&#x27;)})</pre></div></div></div><div class=\"sk-parallel\"><div class=\"sk-parallel-item\"><div class=\"sk-item\"><div class=\"sk-label-container\"><div class=\"sk-label sk-toggleable\"><input class=\"sk-toggleable__control sk-hidden--visually\" id=\"sk-estimator-id-12\" type=\"checkbox\" ><label for=\"sk-estimator-id-12\" class=\"sk-toggleable__label sk-toggleable__label-arrow\">estimator: LogisticRegression</label><div class=\"sk-toggleable__content\"><pre>LogisticRegression()</pre></div></div></div><div class=\"sk-serial\"><div class=\"sk-item\"><div class=\"sk-estimator sk-toggleable\"><input class=\"sk-toggleable__control sk-hidden--visually\" id=\"sk-estimator-id-13\" type=\"checkbox\" ><label for=\"sk-estimator-id-13\" class=\"sk-toggleable__label sk-toggleable__label-arrow\">LogisticRegression</label><div class=\"sk-toggleable__content\"><pre>LogisticRegression()</pre></div></div></div></div></div></div></div></div></div></div>"
      ],
      "text/plain": [
       "RandomizedSearchCV(cv=5, estimator=LogisticRegression(), n_iter=20,\n",
       "                   param_distributions={'C': [1, 10, 20, 30],\n",
       "                                        'penalty': ('l1', 'l2', 'elasticnet'),\n",
       "                                        'solver': ('liblinear', 'newton-cg',\n",
       "                                                   'newton-cholesky', 'sag',\n",
       "                                                   'saga')})"
      ]
     },
     "execution_count": 23,
     "metadata": {},
     "output_type": "execute_result"
    }
   ],
   "source": [
    "random_clf.fit(X_train, y_train)"
   ]
  },
  {
   "cell_type": "code",
   "execution_count": 24,
   "id": "3dd23cc8",
   "metadata": {},
   "outputs": [
    {
     "data": {
      "text/plain": [
       "{'solver': 'sag', 'penalty': 'l2', 'C': 20}"
      ]
     },
     "execution_count": 24,
     "metadata": {},
     "output_type": "execute_result"
    }
   ],
   "source": [
    "random_clf.best_params_"
   ]
  },
  {
   "cell_type": "code",
   "execution_count": 25,
   "id": "931e6719",
   "metadata": {},
   "outputs": [
    {
     "data": {
      "text/plain": [
       "0.8087500000000001"
      ]
     },
     "execution_count": 25,
     "metadata": {},
     "output_type": "execute_result"
    }
   ],
   "source": [
    "clf.best_score_"
   ]
  },
  {
   "cell_type": "code",
   "execution_count": 26,
   "id": "737e71ca",
   "metadata": {},
   "outputs": [
    {
     "data": {
      "text/plain": [
       "array([0, 1, 1, 1, 0, 0, 0, 1, 0, 1, 1, 0, 0, 0, 1, 1, 0, 0, 1, 1, 0, 0,\n",
       "       0, 0, 1, 1, 0, 1, 1, 0, 0, 0, 1, 1, 0, 1, 0, 0, 1, 0, 0, 1, 0, 0,\n",
       "       1, 1, 1, 1, 1, 1, 0, 0, 1, 1, 0, 1, 0, 1, 1, 1, 0, 1, 0, 1, 0, 0,\n",
       "       0, 1, 0, 0, 1, 0, 0, 0, 1, 0, 0, 0, 1, 1, 0, 1, 0, 1, 0, 1, 0, 0,\n",
       "       0, 0, 0, 0, 1, 0, 1, 0, 1, 0, 0, 1, 1, 0, 1, 0, 1, 0, 1, 0, 1, 0,\n",
       "       0, 0, 0, 0, 0, 1, 1, 1, 1, 1, 1, 1, 0, 1, 0, 0, 0, 1, 0, 0, 0, 0,\n",
       "       1, 0, 0, 0, 1, 0, 1, 0, 0, 0, 0, 1, 0, 0, 0, 1, 1, 1, 0, 0, 0, 0,\n",
       "       0, 0, 1, 1, 0, 1, 1, 0, 0, 1, 1, 0, 0, 1, 1, 0, 0, 1, 1, 0, 1, 1,\n",
       "       0, 1, 1, 0, 1, 1, 0, 0, 1, 0, 1, 1, 0, 1, 0, 1, 1, 1, 0, 1, 0, 1,\n",
       "       0, 1])"
      ]
     },
     "execution_count": 26,
     "metadata": {},
     "output_type": "execute_result"
    }
   ],
   "source": [
    "classifire2 = LogisticRegression(C=20,penalty='l2', solver= 'sag', max_iter=100 )\n",
    "classifire2.fit(X_train, y_train)\n",
    "y_pred_rc = classifire2.predict(X_test)\n",
    "y_pred_rc"
   ]
  },
  {
   "cell_type": "code",
   "execution_count": 27,
   "id": "be953252",
   "metadata": {},
   "outputs": [
    {
     "data": {
      "text/plain": [
       "array([[0.71721369, 0.28278631],\n",
       "       [0.19368226, 0.80631774],\n",
       "       [0.12283098, 0.87716902],\n",
       "       [0.04943489, 0.95056511],\n",
       "       [0.88983353, 0.11016647],\n",
       "       [0.75201515, 0.24798485],\n",
       "       [0.98025059, 0.01974941],\n",
       "       [0.39210377, 0.60789623],\n",
       "       [0.59979275, 0.40020725],\n",
       "       [0.39084023, 0.60915977],\n",
       "       [0.20397727, 0.79602273],\n",
       "       [0.80448429, 0.19551571],\n",
       "       [0.86529911, 0.13470089],\n",
       "       [0.92775858, 0.07224142],\n",
       "       [0.00127078, 0.99872922],\n",
       "       [0.0410418 , 0.9589582 ],\n",
       "       [0.56022645, 0.43977355],\n",
       "       [0.89494044, 0.10505956],\n",
       "       [0.29153371, 0.70846629],\n",
       "       [0.00844288, 0.99155712],\n",
       "       [0.72037486, 0.27962514],\n",
       "       [0.50819931, 0.49180069],\n",
       "       [0.76368063, 0.23631937],\n",
       "       [0.73324702, 0.26675298],\n",
       "       [0.10017804, 0.89982196],\n",
       "       [0.03946908, 0.96053092],\n",
       "       [0.57818471, 0.42181529],\n",
       "       [0.00509874, 0.99490126],\n",
       "       [0.03048013, 0.96951987],\n",
       "       [0.96190631, 0.03809369],\n",
       "       [0.85666436, 0.14333564],\n",
       "       [0.79267077, 0.20732923],\n",
       "       [0.38777008, 0.61222992],\n",
       "       [0.41050018, 0.58949982],\n",
       "       [0.98243688, 0.01756312],\n",
       "       [0.04697459, 0.95302541],\n",
       "       [0.5684146 , 0.4315854 ],\n",
       "       [0.78055304, 0.21944696],\n",
       "       [0.07840831, 0.92159169],\n",
       "       [0.89463783, 0.10536217],\n",
       "       [0.91240354, 0.08759646],\n",
       "       [0.03494234, 0.96505766],\n",
       "       [0.77687106, 0.22312894],\n",
       "       [0.83021155, 0.16978845],\n",
       "       [0.27109494, 0.72890506],\n",
       "       [0.40892387, 0.59107613],\n",
       "       [0.41445683, 0.58554317],\n",
       "       [0.30090467, 0.69909533],\n",
       "       [0.23002333, 0.76997667],\n",
       "       [0.42728498, 0.57271502],\n",
       "       [0.72584641, 0.27415359],\n",
       "       [0.62233799, 0.37766201],\n",
       "       [0.20113298, 0.79886702],\n",
       "       [0.05119338, 0.94880662],\n",
       "       [0.77877678, 0.22122322],\n",
       "       [0.11665885, 0.88334115],\n",
       "       [0.8373568 , 0.1626432 ],\n",
       "       [0.05888179, 0.94111821],\n",
       "       [0.03003332, 0.96996668],\n",
       "       [0.02135026, 0.97864974],\n",
       "       [0.56786125, 0.43213875],\n",
       "       [0.35774672, 0.64225328],\n",
       "       [0.55042371, 0.44957629],\n",
       "       [0.15518026, 0.84481974],\n",
       "       [0.76417992, 0.23582008],\n",
       "       [0.63374725, 0.36625275],\n",
       "       [0.59649285, 0.40350715],\n",
       "       [0.00251426, 0.99748574],\n",
       "       [0.83389048, 0.16610952],\n",
       "       [0.59843175, 0.40156825],\n",
       "       [0.13893495, 0.86106505],\n",
       "       [0.84277825, 0.15722175],\n",
       "       [0.96860228, 0.03139772],\n",
       "       [0.84820914, 0.15179086],\n",
       "       [0.0345056 , 0.9654944 ],\n",
       "       [0.96268011, 0.03731989],\n",
       "       [0.74807094, 0.25192906],\n",
       "       [0.70079211, 0.29920789],\n",
       "       [0.4806168 , 0.5193832 ],\n",
       "       [0.00356734, 0.99643266],\n",
       "       [0.78806096, 0.21193904],\n",
       "       [0.06251458, 0.93748542],\n",
       "       [0.57927913, 0.42072087],\n",
       "       [0.04916519, 0.95083481],\n",
       "       [0.90690512, 0.09309488],\n",
       "       [0.06525485, 0.93474515],\n",
       "       [0.66924471, 0.33075529],\n",
       "       [0.92860585, 0.07139415],\n",
       "       [0.55592751, 0.44407249],\n",
       "       [0.74873999, 0.25126001],\n",
       "       [0.77699417, 0.22300583],\n",
       "       [0.63406602, 0.36593398],\n",
       "       [0.01395641, 0.98604359],\n",
       "       [0.52618674, 0.47381326],\n",
       "       [0.01967314, 0.98032686],\n",
       "       [0.84089867, 0.15910133],\n",
       "       [0.01891255, 0.98108745],\n",
       "       [0.61101802, 0.38898198],\n",
       "       [0.92822321, 0.07177679],\n",
       "       [0.11441485, 0.88558515],\n",
       "       [0.00341277, 0.99658723],\n",
       "       [0.58287764, 0.41712236],\n",
       "       [0.2782526 , 0.7217474 ],\n",
       "       [0.69561614, 0.30438386],\n",
       "       [0.06181545, 0.93818455],\n",
       "       [0.97633807, 0.02366193],\n",
       "       [0.11106973, 0.88893027],\n",
       "       [0.76079996, 0.23920004],\n",
       "       [0.0030655 , 0.9969345 ],\n",
       "       [0.55841248, 0.44158752],\n",
       "       [0.57318631, 0.42681369],\n",
       "       [0.91599442, 0.08400558],\n",
       "       [0.51670402, 0.48329598],\n",
       "       [0.91134522, 0.08865478],\n",
       "       [0.52713883, 0.47286117],\n",
       "       [0.00309687, 0.99690313],\n",
       "       [0.04034956, 0.95965044],\n",
       "       [0.13091243, 0.86908757],\n",
       "       [0.14497773, 0.85502227],\n",
       "       [0.33351439, 0.66648561],\n",
       "       [0.03986411, 0.96013589],\n",
       "       [0.09864295, 0.90135705],\n",
       "       [0.85777623, 0.14222377],\n",
       "       [0.11000409, 0.88999591],\n",
       "       [0.55158719, 0.44841281],\n",
       "       [0.88920238, 0.11079762],\n",
       "       [0.89172276, 0.10827724],\n",
       "       [0.1287504 , 0.8712496 ],\n",
       "       [0.90924253, 0.09075747],\n",
       "       [0.75098997, 0.24901003],\n",
       "       [0.75965373, 0.24034627],\n",
       "       [0.76914556, 0.23085444],\n",
       "       [0.47021069, 0.52978931],\n",
       "       [0.95152845, 0.04847155],\n",
       "       [0.98344123, 0.01655877],\n",
       "       [0.93126083, 0.06873917],\n",
       "       [0.03435465, 0.96564535],\n",
       "       [0.50162007, 0.49837993],\n",
       "       [0.36470853, 0.63529147],\n",
       "       [0.85016162, 0.14983838],\n",
       "       [0.86547612, 0.13452388],\n",
       "       [0.52416397, 0.47583603],\n",
       "       [0.95535257, 0.04464743],\n",
       "       [0.41414172, 0.58585828],\n",
       "       [0.96331265, 0.03668735],\n",
       "       [0.99165766, 0.00834234],\n",
       "       [0.70752026, 0.29247974],\n",
       "       [0.06495538, 0.93504462],\n",
       "       [0.05017201, 0.94982799],\n",
       "       [0.01912474, 0.98087526],\n",
       "       [0.84339473, 0.15660527],\n",
       "       [0.95568387, 0.04431613],\n",
       "       [0.79054329, 0.20945671],\n",
       "       [0.97540681, 0.02459319],\n",
       "       [0.7776366 , 0.2223634 ],\n",
       "       [0.93198658, 0.06801342],\n",
       "       [0.04154973, 0.95845027],\n",
       "       [0.23537754, 0.76462246],\n",
       "       [0.69810017, 0.30189983],\n",
       "       [0.05634054, 0.94365946],\n",
       "       [0.04990469, 0.95009531],\n",
       "       [0.89357124, 0.10642876],\n",
       "       [0.83279325, 0.16720675],\n",
       "       [0.38441906, 0.61558094],\n",
       "       [0.0180603 , 0.9819397 ],\n",
       "       [0.82624261, 0.17375739],\n",
       "       [0.78512208, 0.21487792],\n",
       "       [0.02983695, 0.97016305],\n",
       "       [0.08014294, 0.91985706],\n",
       "       [0.77633425, 0.22366575],\n",
       "       [0.93263277, 0.06736723],\n",
       "       [0.0119646 , 0.9880354 ],\n",
       "       [0.10910672, 0.89089328],\n",
       "       [0.80096362, 0.19903638],\n",
       "       [0.01077419, 0.98922581],\n",
       "       [0.04356218, 0.95643782],\n",
       "       [0.98227413, 0.01772587],\n",
       "       [0.03108309, 0.96891691],\n",
       "       [0.25878714, 0.74121286],\n",
       "       [0.81970634, 0.18029366],\n",
       "       [0.40071256, 0.59928744],\n",
       "       [0.37428068, 0.62571932],\n",
       "       [0.78005359, 0.21994641],\n",
       "       [0.74228199, 0.25771801],\n",
       "       [0.45965198, 0.54034802],\n",
       "       [0.53972883, 0.46027117],\n",
       "       [0.03585778, 0.96414222],\n",
       "       [0.00836454, 0.99163546],\n",
       "       [0.91708391, 0.08291609],\n",
       "       [0.11527278, 0.88472722],\n",
       "       [0.61487134, 0.38512866],\n",
       "       [0.03305236, 0.96694764],\n",
       "       [0.01499268, 0.98500732],\n",
       "       [0.06478636, 0.93521364],\n",
       "       [0.90187039, 0.09812961],\n",
       "       [0.04819684, 0.95180316],\n",
       "       [0.87298883, 0.12701117],\n",
       "       [0.02097889, 0.97902111],\n",
       "       [0.64522255, 0.35477745],\n",
       "       [0.00964169, 0.99035831]])"
      ]
     },
     "execution_count": 27,
     "metadata": {},
     "output_type": "execute_result"
    }
   ],
   "source": [
    "classifire2.predict_proba(X_test)"
   ]
  },
  {
   "cell_type": "code",
   "execution_count": 28,
   "id": "ea329feb",
   "metadata": {},
   "outputs": [
    {
     "name": "stdout",
     "output_type": "stream",
     "text": [
      "[[79 12]\n",
      " [29 80]]\n",
      "0.795\n",
      "              precision    recall  f1-score   support\n",
      "\n",
      "           0       0.73      0.87      0.79        91\n",
      "           1       0.87      0.73      0.80       109\n",
      "\n",
      "    accuracy                           0.80       200\n",
      "   macro avg       0.80      0.80      0.79       200\n",
      "weighted avg       0.81      0.80      0.80       200\n",
      "\n"
     ]
    }
   ],
   "source": [
    "print(confusion_matrix(y_test,y_pred_rc))\n",
    "print(accuracy_score(y_test,y_pred_rc))\n",
    "print(classification_report(y_test,y_pred_rc))"
   ]
  },
  {
   "cell_type": "code",
   "execution_count": null,
   "id": "5bafa5cb",
   "metadata": {},
   "outputs": [],
   "source": []
  },
  {
   "cell_type": "code",
   "execution_count": null,
   "id": "34dece99",
   "metadata": {},
   "outputs": [],
   "source": []
  },
  {
   "cell_type": "code",
   "execution_count": null,
   "id": "ae5fb291",
   "metadata": {},
   "outputs": [],
   "source": []
  },
  {
   "cell_type": "code",
   "execution_count": null,
   "id": "f23c4f7f",
   "metadata": {},
   "outputs": [],
   "source": []
  }
 ],
 "metadata": {
  "kernelspec": {
   "display_name": "Python 3 (ipykernel)",
   "language": "python",
   "name": "python3"
  },
  "language_info": {
   "codemirror_mode": {
    "name": "ipython",
    "version": 3
   },
   "file_extension": ".py",
   "mimetype": "text/x-python",
   "name": "python",
   "nbconvert_exporter": "python",
   "pygments_lexer": "ipython3",
   "version": "3.11.7"
  }
 },
 "nbformat": 4,
 "nbformat_minor": 5
}
