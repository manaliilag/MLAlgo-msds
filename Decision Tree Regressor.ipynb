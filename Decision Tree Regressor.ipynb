{
 "cells": [
  {
   "cell_type": "markdown",
   "id": "10bc46af",
   "metadata": {},
   "source": [
    "### Decision Tree Regressor implementation"
   ]
  },
  {
   "cell_type": "code",
   "execution_count": 2,
   "id": "156c3deb",
   "metadata": {},
   "outputs": [],
   "source": [
    "import pandas as pd\n",
    "import matplotlib.pyplot as plt\n",
    "%matplotlib inline"
   ]
  },
  {
   "cell_type": "code",
   "execution_count": 3,
   "id": "84f1b734",
   "metadata": {},
   "outputs": [],
   "source": [
    "## california house pricing dataset\n",
    "from sklearn.datasets import fetch_california_housing\n",
    "california_df = fetch_california_housing()"
   ]
  },
  {
   "cell_type": "code",
   "execution_count": 4,
   "id": "5ed480cf",
   "metadata": {},
   "outputs": [
    {
     "data": {
      "text/plain": [
       "{'data': array([[   8.3252    ,   41.        ,    6.98412698, ...,    2.55555556,\n",
       "           37.88      , -122.23      ],\n",
       "        [   8.3014    ,   21.        ,    6.23813708, ...,    2.10984183,\n",
       "           37.86      , -122.22      ],\n",
       "        [   7.2574    ,   52.        ,    8.28813559, ...,    2.80225989,\n",
       "           37.85      , -122.24      ],\n",
       "        ...,\n",
       "        [   1.7       ,   17.        ,    5.20554273, ...,    2.3256351 ,\n",
       "           39.43      , -121.22      ],\n",
       "        [   1.8672    ,   18.        ,    5.32951289, ...,    2.12320917,\n",
       "           39.43      , -121.32      ],\n",
       "        [   2.3886    ,   16.        ,    5.25471698, ...,    2.61698113,\n",
       "           39.37      , -121.24      ]]),\n",
       " 'target': array([4.526, 3.585, 3.521, ..., 0.923, 0.847, 0.894]),\n",
       " 'frame': None,\n",
       " 'target_names': ['MedHouseVal'],\n",
       " 'feature_names': ['MedInc',\n",
       "  'HouseAge',\n",
       "  'AveRooms',\n",
       "  'AveBedrms',\n",
       "  'Population',\n",
       "  'AveOccup',\n",
       "  'Latitude',\n",
       "  'Longitude'],\n",
       " 'DESCR': '.. _california_housing_dataset:\\n\\nCalifornia Housing dataset\\n--------------------------\\n\\n**Data Set Characteristics:**\\n\\n    :Number of Instances: 20640\\n\\n    :Number of Attributes: 8 numeric, predictive attributes and the target\\n\\n    :Attribute Information:\\n        - MedInc        median income in block group\\n        - HouseAge      median house age in block group\\n        - AveRooms      average number of rooms per household\\n        - AveBedrms     average number of bedrooms per household\\n        - Population    block group population\\n        - AveOccup      average number of household members\\n        - Latitude      block group latitude\\n        - Longitude     block group longitude\\n\\n    :Missing Attribute Values: None\\n\\nThis dataset was obtained from the StatLib repository.\\nhttps://www.dcc.fc.up.pt/~ltorgo/Regression/cal_housing.html\\n\\nThe target variable is the median house value for California districts,\\nexpressed in hundreds of thousands of dollars ($100,000).\\n\\nThis dataset was derived from the 1990 U.S. census, using one row per census\\nblock group. A block group is the smallest geographical unit for which the U.S.\\nCensus Bureau publishes sample data (a block group typically has a population\\nof 600 to 3,000 people).\\n\\nAn household is a group of people residing within a home. Since the average\\nnumber of rooms and bedrooms in this dataset are provided per household, these\\ncolumns may take surpinsingly large values for block groups with few households\\nand many empty houses, such as vacation resorts.\\n\\nIt can be downloaded/loaded using the\\n:func:`sklearn.datasets.fetch_california_housing` function.\\n\\n.. topic:: References\\n\\n    - Pace, R. Kelley and Ronald Barry, Sparse Spatial Autoregressions,\\n      Statistics and Probability Letters, 33 (1997) 291-297\\n'}"
      ]
     },
     "execution_count": 4,
     "metadata": {},
     "output_type": "execute_result"
    }
   ],
   "source": [
    "california_df"
   ]
  },
  {
   "cell_type": "code",
   "execution_count": 5,
   "id": "6ee38036",
   "metadata": {},
   "outputs": [
    {
     "data": {
      "text/plain": [
       "array([[   8.3252    ,   41.        ,    6.98412698, ...,    2.55555556,\n",
       "          37.88      , -122.23      ],\n",
       "       [   8.3014    ,   21.        ,    6.23813708, ...,    2.10984183,\n",
       "          37.86      , -122.22      ],\n",
       "       [   7.2574    ,   52.        ,    8.28813559, ...,    2.80225989,\n",
       "          37.85      , -122.24      ],\n",
       "       ...,\n",
       "       [   1.7       ,   17.        ,    5.20554273, ...,    2.3256351 ,\n",
       "          39.43      , -121.22      ],\n",
       "       [   1.8672    ,   18.        ,    5.32951289, ...,    2.12320917,\n",
       "          39.43      , -121.32      ],\n",
       "       [   2.3886    ,   16.        ,    5.25471698, ...,    2.61698113,\n",
       "          39.37      , -121.24      ]])"
      ]
     },
     "execution_count": 5,
     "metadata": {},
     "output_type": "execute_result"
    }
   ],
   "source": [
    "california_df.data"
   ]
  },
  {
   "cell_type": "code",
   "execution_count": 6,
   "id": "246ba174",
   "metadata": {},
   "outputs": [
    {
     "data": {
      "text/plain": [
       "['MedInc',\n",
       " 'HouseAge',\n",
       " 'AveRooms',\n",
       " 'AveBedrms',\n",
       " 'Population',\n",
       " 'AveOccup',\n",
       " 'Latitude',\n",
       " 'Longitude']"
      ]
     },
     "execution_count": 6,
     "metadata": {},
     "output_type": "execute_result"
    }
   ],
   "source": [
    "california_df.feature_names"
   ]
  },
  {
   "cell_type": "code",
   "execution_count": 7,
   "id": "cc3fde5b",
   "metadata": {},
   "outputs": [
    {
     "data": {
      "text/plain": [
       "array([4.526, 3.585, 3.521, ..., 0.923, 0.847, 0.894])"
      ]
     },
     "execution_count": 7,
     "metadata": {},
     "output_type": "execute_result"
    }
   ],
   "source": [
    "california_df.target"
   ]
  },
  {
   "cell_type": "code",
   "execution_count": 8,
   "id": "9f5e1536",
   "metadata": {},
   "outputs": [],
   "source": [
    "df=pd.DataFrame(california_df.data, columns=california_df.feature_names)"
   ]
  },
  {
   "cell_type": "code",
   "execution_count": 9,
   "id": "24ebfaf5",
   "metadata": {},
   "outputs": [],
   "source": [
    "df['Target'] = california_df.target\n",
    "#taking sample data\n",
    "df=df.sample(frac=0.25)"
   ]
  },
  {
   "cell_type": "code",
   "execution_count": 10,
   "id": "db281d49",
   "metadata": {},
   "outputs": [],
   "source": [
    "# independent variable\n",
    "X=df.iloc[:,:-1]\n",
    "# dependent variable\n",
    "y=df.iloc[:,-1]"
   ]
  },
  {
   "cell_type": "code",
   "execution_count": 11,
   "id": "eb7a0d7b",
   "metadata": {},
   "outputs": [
    {
     "data": {
      "text/html": [
       "<div>\n",
       "<style scoped>\n",
       "    .dataframe tbody tr th:only-of-type {\n",
       "        vertical-align: middle;\n",
       "    }\n",
       "\n",
       "    .dataframe tbody tr th {\n",
       "        vertical-align: top;\n",
       "    }\n",
       "\n",
       "    .dataframe thead th {\n",
       "        text-align: right;\n",
       "    }\n",
       "</style>\n",
       "<table border=\"1\" class=\"dataframe\">\n",
       "  <thead>\n",
       "    <tr style=\"text-align: right;\">\n",
       "      <th></th>\n",
       "      <th>MedInc</th>\n",
       "      <th>HouseAge</th>\n",
       "      <th>AveRooms</th>\n",
       "      <th>AveBedrms</th>\n",
       "      <th>Population</th>\n",
       "      <th>AveOccup</th>\n",
       "      <th>Latitude</th>\n",
       "      <th>Longitude</th>\n",
       "    </tr>\n",
       "  </thead>\n",
       "  <tbody>\n",
       "    <tr>\n",
       "      <th>2343</th>\n",
       "      <td>4.8100</td>\n",
       "      <td>15.0</td>\n",
       "      <td>6.540594</td>\n",
       "      <td>1.013861</td>\n",
       "      <td>1687.0</td>\n",
       "      <td>3.340594</td>\n",
       "      <td>36.82</td>\n",
       "      <td>-119.69</td>\n",
       "    </tr>\n",
       "    <tr>\n",
       "      <th>5231</th>\n",
       "      <td>1.0625</td>\n",
       "      <td>32.0</td>\n",
       "      <td>3.557078</td>\n",
       "      <td>0.917808</td>\n",
       "      <td>861.0</td>\n",
       "      <td>3.931507</td>\n",
       "      <td>33.93</td>\n",
       "      <td>-118.24</td>\n",
       "    </tr>\n",
       "    <tr>\n",
       "      <th>4670</th>\n",
       "      <td>1.8470</td>\n",
       "      <td>18.0</td>\n",
       "      <td>2.337027</td>\n",
       "      <td>1.082790</td>\n",
       "      <td>5229.0</td>\n",
       "      <td>3.408735</td>\n",
       "      <td>34.05</td>\n",
       "      <td>-118.29</td>\n",
       "    </tr>\n",
       "    <tr>\n",
       "      <th>11240</th>\n",
       "      <td>5.1180</td>\n",
       "      <td>33.0</td>\n",
       "      <td>6.049123</td>\n",
       "      <td>1.021053</td>\n",
       "      <td>943.0</td>\n",
       "      <td>3.308772</td>\n",
       "      <td>33.81</td>\n",
       "      <td>-117.95</td>\n",
       "    </tr>\n",
       "    <tr>\n",
       "      <th>1884</th>\n",
       "      <td>2.9091</td>\n",
       "      <td>23.0</td>\n",
       "      <td>6.794224</td>\n",
       "      <td>1.494585</td>\n",
       "      <td>673.0</td>\n",
       "      <td>2.429603</td>\n",
       "      <td>38.93</td>\n",
       "      <td>-119.99</td>\n",
       "    </tr>\n",
       "  </tbody>\n",
       "</table>\n",
       "</div>"
      ],
      "text/plain": [
       "       MedInc  HouseAge  AveRooms  AveBedrms  Population  AveOccup  Latitude  \\\n",
       "2343   4.8100      15.0  6.540594   1.013861      1687.0  3.340594     36.82   \n",
       "5231   1.0625      32.0  3.557078   0.917808       861.0  3.931507     33.93   \n",
       "4670   1.8470      18.0  2.337027   1.082790      5229.0  3.408735     34.05   \n",
       "11240  5.1180      33.0  6.049123   1.021053       943.0  3.308772     33.81   \n",
       "1884   2.9091      23.0  6.794224   1.494585       673.0  2.429603     38.93   \n",
       "\n",
       "       Longitude  \n",
       "2343     -119.69  \n",
       "5231     -118.24  \n",
       "4670     -118.29  \n",
       "11240    -117.95  \n",
       "1884     -119.99  "
      ]
     },
     "execution_count": 11,
     "metadata": {},
     "output_type": "execute_result"
    }
   ],
   "source": [
    "X.head()"
   ]
  },
  {
   "cell_type": "code",
   "execution_count": 12,
   "id": "fa8bb625",
   "metadata": {},
   "outputs": [],
   "source": [
    "from sklearn.model_selection import train_test_split\n",
    "X_train, X_test, y_train, y_test = train_test_split(X, y, test_size=0.33, random_state=42)"
   ]
  },
  {
   "cell_type": "code",
   "execution_count": 13,
   "id": "b610e638",
   "metadata": {},
   "outputs": [],
   "source": [
    "from sklearn.tree import DecisionTreeRegressor\n",
    "regressor = DecisionTreeRegressor()"
   ]
  },
  {
   "cell_type": "code",
   "execution_count": 15,
   "id": "651adab4",
   "metadata": {},
   "outputs": [
    {
     "data": {
      "text/html": [
       "<style>#sk-container-id-1 {color: black;background-color: white;}#sk-container-id-1 pre{padding: 0;}#sk-container-id-1 div.sk-toggleable {background-color: white;}#sk-container-id-1 label.sk-toggleable__label {cursor: pointer;display: block;width: 100%;margin-bottom: 0;padding: 0.3em;box-sizing: border-box;text-align: center;}#sk-container-id-1 label.sk-toggleable__label-arrow:before {content: \"▸\";float: left;margin-right: 0.25em;color: #696969;}#sk-container-id-1 label.sk-toggleable__label-arrow:hover:before {color: black;}#sk-container-id-1 div.sk-estimator:hover label.sk-toggleable__label-arrow:before {color: black;}#sk-container-id-1 div.sk-toggleable__content {max-height: 0;max-width: 0;overflow: hidden;text-align: left;background-color: #f0f8ff;}#sk-container-id-1 div.sk-toggleable__content pre {margin: 0.2em;color: black;border-radius: 0.25em;background-color: #f0f8ff;}#sk-container-id-1 input.sk-toggleable__control:checked~div.sk-toggleable__content {max-height: 200px;max-width: 100%;overflow: auto;}#sk-container-id-1 input.sk-toggleable__control:checked~label.sk-toggleable__label-arrow:before {content: \"▾\";}#sk-container-id-1 div.sk-estimator input.sk-toggleable__control:checked~label.sk-toggleable__label {background-color: #d4ebff;}#sk-container-id-1 div.sk-label input.sk-toggleable__control:checked~label.sk-toggleable__label {background-color: #d4ebff;}#sk-container-id-1 input.sk-hidden--visually {border: 0;clip: rect(1px 1px 1px 1px);clip: rect(1px, 1px, 1px, 1px);height: 1px;margin: -1px;overflow: hidden;padding: 0;position: absolute;width: 1px;}#sk-container-id-1 div.sk-estimator {font-family: monospace;background-color: #f0f8ff;border: 1px dotted black;border-radius: 0.25em;box-sizing: border-box;margin-bottom: 0.5em;}#sk-container-id-1 div.sk-estimator:hover {background-color: #d4ebff;}#sk-container-id-1 div.sk-parallel-item::after {content: \"\";width: 100%;border-bottom: 1px solid gray;flex-grow: 1;}#sk-container-id-1 div.sk-label:hover label.sk-toggleable__label {background-color: #d4ebff;}#sk-container-id-1 div.sk-serial::before {content: \"\";position: absolute;border-left: 1px solid gray;box-sizing: border-box;top: 0;bottom: 0;left: 50%;z-index: 0;}#sk-container-id-1 div.sk-serial {display: flex;flex-direction: column;align-items: center;background-color: white;padding-right: 0.2em;padding-left: 0.2em;position: relative;}#sk-container-id-1 div.sk-item {position: relative;z-index: 1;}#sk-container-id-1 div.sk-parallel {display: flex;align-items: stretch;justify-content: center;background-color: white;position: relative;}#sk-container-id-1 div.sk-item::before, #sk-container-id-1 div.sk-parallel-item::before {content: \"\";position: absolute;border-left: 1px solid gray;box-sizing: border-box;top: 0;bottom: 0;left: 50%;z-index: -1;}#sk-container-id-1 div.sk-parallel-item {display: flex;flex-direction: column;z-index: 1;position: relative;background-color: white;}#sk-container-id-1 div.sk-parallel-item:first-child::after {align-self: flex-end;width: 50%;}#sk-container-id-1 div.sk-parallel-item:last-child::after {align-self: flex-start;width: 50%;}#sk-container-id-1 div.sk-parallel-item:only-child::after {width: 0;}#sk-container-id-1 div.sk-dashed-wrapped {border: 1px dashed gray;margin: 0 0.4em 0.5em 0.4em;box-sizing: border-box;padding-bottom: 0.4em;background-color: white;}#sk-container-id-1 div.sk-label label {font-family: monospace;font-weight: bold;display: inline-block;line-height: 1.2em;}#sk-container-id-1 div.sk-label-container {text-align: center;}#sk-container-id-1 div.sk-container {/* jupyter's `normalize.less` sets `[hidden] { display: none; }` but bootstrap.min.css set `[hidden] { display: none !important; }` so we also need the `!important` here to be able to override the default hidden behavior on the sphinx rendered scikit-learn.org. See: https://github.com/scikit-learn/scikit-learn/issues/21755 */display: inline-block !important;position: relative;}#sk-container-id-1 div.sk-text-repr-fallback {display: none;}</style><div id=\"sk-container-id-1\" class=\"sk-top-container\"><div class=\"sk-text-repr-fallback\"><pre>DecisionTreeRegressor()</pre><b>In a Jupyter environment, please rerun this cell to show the HTML representation or trust the notebook. <br />On GitHub, the HTML representation is unable to render, please try loading this page with nbviewer.org.</b></div><div class=\"sk-container\" hidden><div class=\"sk-item\"><div class=\"sk-estimator sk-toggleable\"><input class=\"sk-toggleable__control sk-hidden--visually\" id=\"sk-estimator-id-1\" type=\"checkbox\" checked><label for=\"sk-estimator-id-1\" class=\"sk-toggleable__label sk-toggleable__label-arrow\">DecisionTreeRegressor</label><div class=\"sk-toggleable__content\"><pre>DecisionTreeRegressor()</pre></div></div></div></div></div>"
      ],
      "text/plain": [
       "DecisionTreeRegressor()"
      ]
     },
     "execution_count": 15,
     "metadata": {},
     "output_type": "execute_result"
    }
   ],
   "source": [
    "regressor.fit(X_train, y_train)"
   ]
  },
  {
   "cell_type": "code",
   "execution_count": 16,
   "id": "882579e7",
   "metadata": {},
   "outputs": [],
   "source": [
    "y_pred=regressor.predict(X_test)"
   ]
  },
  {
   "cell_type": "code",
   "execution_count": 17,
   "id": "17f210bb",
   "metadata": {},
   "outputs": [
    {
     "data": {
      "text/plain": [
       "array([0.729, 0.527, 1.568, ..., 2.281, 1.161, 0.942])"
      ]
     },
     "execution_count": 17,
     "metadata": {},
     "output_type": "execute_result"
    }
   ],
   "source": [
    "y_pred"
   ]
  },
  {
   "cell_type": "code",
   "execution_count": 18,
   "id": "41438abd",
   "metadata": {},
   "outputs": [],
   "source": [
    "from sklearn.metrics import r2_score\n",
    "score=r2_score(y_pred,y_test)"
   ]
  },
  {
   "cell_type": "code",
   "execution_count": 19,
   "id": "138ec1a3",
   "metadata": {},
   "outputs": [
    {
     "data": {
      "text/plain": [
       "0.48593591560869787"
      ]
     },
     "execution_count": 19,
     "metadata": {},
     "output_type": "execute_result"
    }
   ],
   "source": [
    "score"
   ]
  },
  {
   "cell_type": "code",
   "execution_count": 21,
   "id": "a2183826",
   "metadata": {},
   "outputs": [],
   "source": [
    "### HyperParameter Tunning\n",
    "parameter={\n",
    "    \"criterion\" : [\"squared_error\", \"friedman_mse\", \"absolute_error\", \"poisson\"],\n",
    "    \"splitter\" : [\"best\",\"random\"],\n",
    "    \"max_depth\" : [1,2,3,4,5,6,7,8,9,10,11,12],\n",
    "    \"max_features\" : ['auto','sqrt','log2']\n",
    "    \n",
    "}\n",
    "regressor=DecisionTreeRegressor()"
   ]
  },
  {
   "cell_type": "code",
   "execution_count": 22,
   "id": "2a3355e7",
   "metadata": {},
   "outputs": [],
   "source": [
    "import warnings\n",
    "warnings.filterwarnings('ignore')\n",
    "from sklearn.model_selection import GridSearchCV\n",
    "regressorcv = GridSearchCV(regressor, param_grid=parameter , cv=2, scoring=\"neg_mean_squared_error\")"
   ]
  },
  {
   "cell_type": "code",
   "execution_count": 23,
   "id": "24825d63",
   "metadata": {},
   "outputs": [
    {
     "data": {
      "text/html": [
       "<style>#sk-container-id-2 {color: black;background-color: white;}#sk-container-id-2 pre{padding: 0;}#sk-container-id-2 div.sk-toggleable {background-color: white;}#sk-container-id-2 label.sk-toggleable__label {cursor: pointer;display: block;width: 100%;margin-bottom: 0;padding: 0.3em;box-sizing: border-box;text-align: center;}#sk-container-id-2 label.sk-toggleable__label-arrow:before {content: \"▸\";float: left;margin-right: 0.25em;color: #696969;}#sk-container-id-2 label.sk-toggleable__label-arrow:hover:before {color: black;}#sk-container-id-2 div.sk-estimator:hover label.sk-toggleable__label-arrow:before {color: black;}#sk-container-id-2 div.sk-toggleable__content {max-height: 0;max-width: 0;overflow: hidden;text-align: left;background-color: #f0f8ff;}#sk-container-id-2 div.sk-toggleable__content pre {margin: 0.2em;color: black;border-radius: 0.25em;background-color: #f0f8ff;}#sk-container-id-2 input.sk-toggleable__control:checked~div.sk-toggleable__content {max-height: 200px;max-width: 100%;overflow: auto;}#sk-container-id-2 input.sk-toggleable__control:checked~label.sk-toggleable__label-arrow:before {content: \"▾\";}#sk-container-id-2 div.sk-estimator input.sk-toggleable__control:checked~label.sk-toggleable__label {background-color: #d4ebff;}#sk-container-id-2 div.sk-label input.sk-toggleable__control:checked~label.sk-toggleable__label {background-color: #d4ebff;}#sk-container-id-2 input.sk-hidden--visually {border: 0;clip: rect(1px 1px 1px 1px);clip: rect(1px, 1px, 1px, 1px);height: 1px;margin: -1px;overflow: hidden;padding: 0;position: absolute;width: 1px;}#sk-container-id-2 div.sk-estimator {font-family: monospace;background-color: #f0f8ff;border: 1px dotted black;border-radius: 0.25em;box-sizing: border-box;margin-bottom: 0.5em;}#sk-container-id-2 div.sk-estimator:hover {background-color: #d4ebff;}#sk-container-id-2 div.sk-parallel-item::after {content: \"\";width: 100%;border-bottom: 1px solid gray;flex-grow: 1;}#sk-container-id-2 div.sk-label:hover label.sk-toggleable__label {background-color: #d4ebff;}#sk-container-id-2 div.sk-serial::before {content: \"\";position: absolute;border-left: 1px solid gray;box-sizing: border-box;top: 0;bottom: 0;left: 50%;z-index: 0;}#sk-container-id-2 div.sk-serial {display: flex;flex-direction: column;align-items: center;background-color: white;padding-right: 0.2em;padding-left: 0.2em;position: relative;}#sk-container-id-2 div.sk-item {position: relative;z-index: 1;}#sk-container-id-2 div.sk-parallel {display: flex;align-items: stretch;justify-content: center;background-color: white;position: relative;}#sk-container-id-2 div.sk-item::before, #sk-container-id-2 div.sk-parallel-item::before {content: \"\";position: absolute;border-left: 1px solid gray;box-sizing: border-box;top: 0;bottom: 0;left: 50%;z-index: -1;}#sk-container-id-2 div.sk-parallel-item {display: flex;flex-direction: column;z-index: 1;position: relative;background-color: white;}#sk-container-id-2 div.sk-parallel-item:first-child::after {align-self: flex-end;width: 50%;}#sk-container-id-2 div.sk-parallel-item:last-child::after {align-self: flex-start;width: 50%;}#sk-container-id-2 div.sk-parallel-item:only-child::after {width: 0;}#sk-container-id-2 div.sk-dashed-wrapped {border: 1px dashed gray;margin: 0 0.4em 0.5em 0.4em;box-sizing: border-box;padding-bottom: 0.4em;background-color: white;}#sk-container-id-2 div.sk-label label {font-family: monospace;font-weight: bold;display: inline-block;line-height: 1.2em;}#sk-container-id-2 div.sk-label-container {text-align: center;}#sk-container-id-2 div.sk-container {/* jupyter's `normalize.less` sets `[hidden] { display: none; }` but bootstrap.min.css set `[hidden] { display: none !important; }` so we also need the `!important` here to be able to override the default hidden behavior on the sphinx rendered scikit-learn.org. See: https://github.com/scikit-learn/scikit-learn/issues/21755 */display: inline-block !important;position: relative;}#sk-container-id-2 div.sk-text-repr-fallback {display: none;}</style><div id=\"sk-container-id-2\" class=\"sk-top-container\"><div class=\"sk-text-repr-fallback\"><pre>GridSearchCV(cv=2, estimator=DecisionTreeRegressor(),\n",
       "             param_grid={&#x27;criterion&#x27;: [&#x27;squared_error&#x27;, &#x27;friedman_mse&#x27;,\n",
       "                                       &#x27;absolute_error&#x27;, &#x27;poisson&#x27;],\n",
       "                         &#x27;max_depth&#x27;: [1, 2, 3, 4, 5, 6, 7, 8, 9, 10, 11, 12],\n",
       "                         &#x27;max_features&#x27;: [&#x27;auto&#x27;, &#x27;sqrt&#x27;, &#x27;log2&#x27;],\n",
       "                         &#x27;splitter&#x27;: [&#x27;best&#x27;, &#x27;random&#x27;]},\n",
       "             scoring=&#x27;neg_mean_squared_error&#x27;)</pre><b>In a Jupyter environment, please rerun this cell to show the HTML representation or trust the notebook. <br />On GitHub, the HTML representation is unable to render, please try loading this page with nbviewer.org.</b></div><div class=\"sk-container\" hidden><div class=\"sk-item sk-dashed-wrapped\"><div class=\"sk-label-container\"><div class=\"sk-label sk-toggleable\"><input class=\"sk-toggleable__control sk-hidden--visually\" id=\"sk-estimator-id-2\" type=\"checkbox\" ><label for=\"sk-estimator-id-2\" class=\"sk-toggleable__label sk-toggleable__label-arrow\">GridSearchCV</label><div class=\"sk-toggleable__content\"><pre>GridSearchCV(cv=2, estimator=DecisionTreeRegressor(),\n",
       "             param_grid={&#x27;criterion&#x27;: [&#x27;squared_error&#x27;, &#x27;friedman_mse&#x27;,\n",
       "                                       &#x27;absolute_error&#x27;, &#x27;poisson&#x27;],\n",
       "                         &#x27;max_depth&#x27;: [1, 2, 3, 4, 5, 6, 7, 8, 9, 10, 11, 12],\n",
       "                         &#x27;max_features&#x27;: [&#x27;auto&#x27;, &#x27;sqrt&#x27;, &#x27;log2&#x27;],\n",
       "                         &#x27;splitter&#x27;: [&#x27;best&#x27;, &#x27;random&#x27;]},\n",
       "             scoring=&#x27;neg_mean_squared_error&#x27;)</pre></div></div></div><div class=\"sk-parallel\"><div class=\"sk-parallel-item\"><div class=\"sk-item\"><div class=\"sk-label-container\"><div class=\"sk-label sk-toggleable\"><input class=\"sk-toggleable__control sk-hidden--visually\" id=\"sk-estimator-id-3\" type=\"checkbox\" ><label for=\"sk-estimator-id-3\" class=\"sk-toggleable__label sk-toggleable__label-arrow\">estimator: DecisionTreeRegressor</label><div class=\"sk-toggleable__content\"><pre>DecisionTreeRegressor()</pre></div></div></div><div class=\"sk-serial\"><div class=\"sk-item\"><div class=\"sk-estimator sk-toggleable\"><input class=\"sk-toggleable__control sk-hidden--visually\" id=\"sk-estimator-id-4\" type=\"checkbox\" ><label for=\"sk-estimator-id-4\" class=\"sk-toggleable__label sk-toggleable__label-arrow\">DecisionTreeRegressor</label><div class=\"sk-toggleable__content\"><pre>DecisionTreeRegressor()</pre></div></div></div></div></div></div></div></div></div></div>"
      ],
      "text/plain": [
       "GridSearchCV(cv=2, estimator=DecisionTreeRegressor(),\n",
       "             param_grid={'criterion': ['squared_error', 'friedman_mse',\n",
       "                                       'absolute_error', 'poisson'],\n",
       "                         'max_depth': [1, 2, 3, 4, 5, 6, 7, 8, 9, 10, 11, 12],\n",
       "                         'max_features': ['auto', 'sqrt', 'log2'],\n",
       "                         'splitter': ['best', 'random']},\n",
       "             scoring='neg_mean_squared_error')"
      ]
     },
     "execution_count": 23,
     "metadata": {},
     "output_type": "execute_result"
    }
   ],
   "source": [
    "regressorcv.fit(X_train,y_train)"
   ]
  },
  {
   "cell_type": "code",
   "execution_count": 25,
   "id": "9d52356e",
   "metadata": {},
   "outputs": [
    {
     "data": {
      "text/plain": [
       "{'criterion': 'poisson',\n",
       " 'max_depth': 6,\n",
       " 'max_features': 'auto',\n",
       " 'splitter': 'best'}"
      ]
     },
     "execution_count": 25,
     "metadata": {},
     "output_type": "execute_result"
    }
   ],
   "source": [
    "regressorcv.best_params_"
   ]
  },
  {
   "cell_type": "code",
   "execution_count": 26,
   "id": "442c1f7e",
   "metadata": {},
   "outputs": [],
   "source": [
    "regressor1 = DecisionTreeRegressor(criterion='poisson', max_depth=6, max_features='auto', splitter='best')"
   ]
  },
  {
   "cell_type": "code",
   "execution_count": 27,
   "id": "1a7f8bcc",
   "metadata": {},
   "outputs": [
    {
     "data": {
      "text/html": [
       "<style>#sk-container-id-3 {color: black;background-color: white;}#sk-container-id-3 pre{padding: 0;}#sk-container-id-3 div.sk-toggleable {background-color: white;}#sk-container-id-3 label.sk-toggleable__label {cursor: pointer;display: block;width: 100%;margin-bottom: 0;padding: 0.3em;box-sizing: border-box;text-align: center;}#sk-container-id-3 label.sk-toggleable__label-arrow:before {content: \"▸\";float: left;margin-right: 0.25em;color: #696969;}#sk-container-id-3 label.sk-toggleable__label-arrow:hover:before {color: black;}#sk-container-id-3 div.sk-estimator:hover label.sk-toggleable__label-arrow:before {color: black;}#sk-container-id-3 div.sk-toggleable__content {max-height: 0;max-width: 0;overflow: hidden;text-align: left;background-color: #f0f8ff;}#sk-container-id-3 div.sk-toggleable__content pre {margin: 0.2em;color: black;border-radius: 0.25em;background-color: #f0f8ff;}#sk-container-id-3 input.sk-toggleable__control:checked~div.sk-toggleable__content {max-height: 200px;max-width: 100%;overflow: auto;}#sk-container-id-3 input.sk-toggleable__control:checked~label.sk-toggleable__label-arrow:before {content: \"▾\";}#sk-container-id-3 div.sk-estimator input.sk-toggleable__control:checked~label.sk-toggleable__label {background-color: #d4ebff;}#sk-container-id-3 div.sk-label input.sk-toggleable__control:checked~label.sk-toggleable__label {background-color: #d4ebff;}#sk-container-id-3 input.sk-hidden--visually {border: 0;clip: rect(1px 1px 1px 1px);clip: rect(1px, 1px, 1px, 1px);height: 1px;margin: -1px;overflow: hidden;padding: 0;position: absolute;width: 1px;}#sk-container-id-3 div.sk-estimator {font-family: monospace;background-color: #f0f8ff;border: 1px dotted black;border-radius: 0.25em;box-sizing: border-box;margin-bottom: 0.5em;}#sk-container-id-3 div.sk-estimator:hover {background-color: #d4ebff;}#sk-container-id-3 div.sk-parallel-item::after {content: \"\";width: 100%;border-bottom: 1px solid gray;flex-grow: 1;}#sk-container-id-3 div.sk-label:hover label.sk-toggleable__label {background-color: #d4ebff;}#sk-container-id-3 div.sk-serial::before {content: \"\";position: absolute;border-left: 1px solid gray;box-sizing: border-box;top: 0;bottom: 0;left: 50%;z-index: 0;}#sk-container-id-3 div.sk-serial {display: flex;flex-direction: column;align-items: center;background-color: white;padding-right: 0.2em;padding-left: 0.2em;position: relative;}#sk-container-id-3 div.sk-item {position: relative;z-index: 1;}#sk-container-id-3 div.sk-parallel {display: flex;align-items: stretch;justify-content: center;background-color: white;position: relative;}#sk-container-id-3 div.sk-item::before, #sk-container-id-3 div.sk-parallel-item::before {content: \"\";position: absolute;border-left: 1px solid gray;box-sizing: border-box;top: 0;bottom: 0;left: 50%;z-index: -1;}#sk-container-id-3 div.sk-parallel-item {display: flex;flex-direction: column;z-index: 1;position: relative;background-color: white;}#sk-container-id-3 div.sk-parallel-item:first-child::after {align-self: flex-end;width: 50%;}#sk-container-id-3 div.sk-parallel-item:last-child::after {align-self: flex-start;width: 50%;}#sk-container-id-3 div.sk-parallel-item:only-child::after {width: 0;}#sk-container-id-3 div.sk-dashed-wrapped {border: 1px dashed gray;margin: 0 0.4em 0.5em 0.4em;box-sizing: border-box;padding-bottom: 0.4em;background-color: white;}#sk-container-id-3 div.sk-label label {font-family: monospace;font-weight: bold;display: inline-block;line-height: 1.2em;}#sk-container-id-3 div.sk-label-container {text-align: center;}#sk-container-id-3 div.sk-container {/* jupyter's `normalize.less` sets `[hidden] { display: none; }` but bootstrap.min.css set `[hidden] { display: none !important; }` so we also need the `!important` here to be able to override the default hidden behavior on the sphinx rendered scikit-learn.org. See: https://github.com/scikit-learn/scikit-learn/issues/21755 */display: inline-block !important;position: relative;}#sk-container-id-3 div.sk-text-repr-fallback {display: none;}</style><div id=\"sk-container-id-3\" class=\"sk-top-container\"><div class=\"sk-text-repr-fallback\"><pre>DecisionTreeRegressor(criterion=&#x27;poisson&#x27;, max_depth=6, max_features=&#x27;auto&#x27;)</pre><b>In a Jupyter environment, please rerun this cell to show the HTML representation or trust the notebook. <br />On GitHub, the HTML representation is unable to render, please try loading this page with nbviewer.org.</b></div><div class=\"sk-container\" hidden><div class=\"sk-item\"><div class=\"sk-estimator sk-toggleable\"><input class=\"sk-toggleable__control sk-hidden--visually\" id=\"sk-estimator-id-5\" type=\"checkbox\" checked><label for=\"sk-estimator-id-5\" class=\"sk-toggleable__label sk-toggleable__label-arrow\">DecisionTreeRegressor</label><div class=\"sk-toggleable__content\"><pre>DecisionTreeRegressor(criterion=&#x27;poisson&#x27;, max_depth=6, max_features=&#x27;auto&#x27;)</pre></div></div></div></div></div>"
      ],
      "text/plain": [
       "DecisionTreeRegressor(criterion='poisson', max_depth=6, max_features='auto')"
      ]
     },
     "execution_count": 27,
     "metadata": {},
     "output_type": "execute_result"
    }
   ],
   "source": [
    "regressor1.fit(X_train, y_train)"
   ]
  },
  {
   "cell_type": "code",
   "execution_count": 28,
   "id": "1ef8e8a8",
   "metadata": {},
   "outputs": [
    {
     "data": {
      "text/plain": [
       "[Text(0.5, 0.9285714285714286, 'X[0] <= 4.042\\npoisson = 0.31\\nsamples = 3457\\nvalue = 2.072'),\n",
       " Text(0.25, 0.7857142857142857, 'X[5] <= 2.295\\npoisson = 0.215\\nsamples = 2166\\nvalue = 1.59'),\n",
       " Text(0.125, 0.6428571428571429, 'X[0] <= 2.663\\npoisson = 0.306\\nsamples = 468\\nvalue = 2.176'),\n",
       " Text(0.0625, 0.5, 'X[2] <= 3.421\\npoisson = 0.251\\nsamples = 198\\nvalue = 1.589'),\n",
       " Text(0.03125, 0.35714285714285715, 'X[4] <= 1167.5\\npoisson = 0.241\\nsamples = 34\\nvalue = 2.375'),\n",
       " Text(0.015625, 0.21428571428571427, 'X[6] <= 35.63\\npoisson = 0.162\\nsamples = 22\\nvalue = 1.919'),\n",
       " Text(0.0078125, 0.07142857142857142, 'poisson = 0.124\\nsamples = 12\\nvalue = 2.35'),\n",
       " Text(0.0234375, 0.07142857142857142, 'poisson = 0.077\\nsamples = 10\\nvalue = 1.402'),\n",
       " Text(0.046875, 0.21428571428571427, 'X[3] <= 1.047\\npoisson = 0.166\\nsamples = 12\\nvalue = 3.213'),\n",
       " Text(0.0390625, 0.07142857142857142, 'poisson = 0.019\\nsamples = 3\\nvalue = 1.995'),\n",
       " Text(0.0546875, 0.07142857142857142, 'poisson = 0.101\\nsamples = 9\\nvalue = 3.618'),\n",
       " Text(0.09375, 0.35714285714285715, 'X[6] <= 38.585\\npoisson = 0.21\\nsamples = 164\\nvalue = 1.426'),\n",
       " Text(0.078125, 0.21428571428571427, 'X[7] <= -117.24\\npoisson = 0.226\\nsamples = 125\\nvalue = 1.574'),\n",
       " Text(0.0703125, 0.07142857142857142, 'poisson = 0.25\\nsamples = 83\\nvalue = 1.772'),\n",
       " Text(0.0859375, 0.07142857142857142, 'poisson = 0.102\\nsamples = 42\\nvalue = 1.183'),\n",
       " Text(0.109375, 0.21428571428571427, 'X[7] <= -121.24\\npoisson = 0.045\\nsamples = 39\\nvalue = 0.949'),\n",
       " Text(0.1015625, 0.07142857142857142, 'poisson = 0.026\\nsamples = 30\\nvalue = 0.848'),\n",
       " Text(0.1171875, 0.07142857142857142, 'poisson = 0.037\\nsamples = 9\\nvalue = 1.285'),\n",
       " Text(0.1875, 0.5, 'X[1] <= 22.5\\npoisson = 0.241\\nsamples = 270\\nvalue = 2.607'),\n",
       " Text(0.15625, 0.35714285714285715, 'X[2] <= 3.934\\npoisson = 0.203\\nsamples = 95\\nvalue = 2.078'),\n",
       " Text(0.140625, 0.21428571428571427, 'X[7] <= -118.25\\npoisson = 0.19\\nsamples = 19\\nvalue = 2.751'),\n",
       " Text(0.1328125, 0.07142857142857142, 'poisson = 0.118\\nsamples = 14\\nvalue = 3.131'),\n",
       " Text(0.1484375, 0.07142857142857142, 'poisson = 0.084\\nsamples = 5\\nvalue = 1.687'),\n",
       " Text(0.171875, 0.21428571428571427, 'X[0] <= 3.367\\npoisson = 0.174\\nsamples = 76\\nvalue = 1.909'),\n",
       " Text(0.1640625, 0.07142857142857142, 'poisson = 0.186\\nsamples = 44\\nvalue = 1.676'),\n",
       " Text(0.1796875, 0.07142857142857142, 'poisson = 0.112\\nsamples = 32\\nvalue = 2.23'),\n",
       " Text(0.21875, 0.35714285714285715, 'X[6] <= 37.82\\npoisson = 0.215\\nsamples = 175\\nvalue = 2.894'),\n",
       " Text(0.203125, 0.21428571428571427, 'X[7] <= -118.355\\npoisson = 0.191\\nsamples = 144\\nvalue = 3.094'),\n",
       " Text(0.1953125, 0.07142857142857142, 'poisson = 0.161\\nsamples = 88\\nvalue = 3.484'),\n",
       " Text(0.2109375, 0.07142857142857142, 'poisson = 0.137\\nsamples = 56\\nvalue = 2.482'),\n",
       " Text(0.234375, 0.21428571428571427, 'X[7] <= -122.4\\npoisson = 0.126\\nsamples = 31\\nvalue = 1.966'),\n",
       " Text(0.2265625, 0.07142857142857142, 'poisson = 0.189\\nsamples = 6\\nvalue = 2.805'),\n",
       " Text(0.2421875, 0.07142857142857142, 'poisson = 0.063\\nsamples = 25\\nvalue = 1.764'),\n",
       " Text(0.375, 0.6428571428571429, 'X[0] <= 2.803\\npoisson = 0.154\\nsamples = 1698\\nvalue = 1.428'),\n",
       " Text(0.3125, 0.5, 'X[6] <= 34.465\\npoisson = 0.145\\nsamples = 855\\nvalue = 1.207'),\n",
       " Text(0.28125, 0.35714285714285715, 'X[7] <= -117.61\\npoisson = 0.133\\nsamples = 420\\nvalue = 1.433'),\n",
       " Text(0.265625, 0.21428571428571427, 'X[5] <= 3.461\\npoisson = 0.113\\nsamples = 280\\nvalue = 1.649'),\n",
       " Text(0.2578125, 0.07142857142857142, 'poisson = 0.137\\nsamples = 126\\nvalue = 1.919'),\n",
       " Text(0.2734375, 0.07142857142857142, 'poisson = 0.061\\nsamples = 154\\nvalue = 1.428'),\n",
       " Text(0.296875, 0.21428571428571427, 'X[7] <= -116.895\\npoisson = 0.069\\nsamples = 140\\nvalue = 1.0'),\n",
       " Text(0.2890625, 0.07142857142857142, 'poisson = 0.063\\nsamples = 108\\nvalue = 1.09'),\n",
       " Text(0.3046875, 0.07142857142857142, 'poisson = 0.024\\nsamples = 32\\nvalue = 0.697'),\n",
       " Text(0.34375, 0.35714285714285715, 'X[7] <= -120.64\\npoisson = 0.115\\nsamples = 435\\nvalue = 0.989'),\n",
       " Text(0.328125, 0.21428571428571427, 'X[6] <= 37.895\\npoisson = 0.122\\nsamples = 274\\nvalue = 1.15'),\n",
       " Text(0.3203125, 0.07142857142857142, 'poisson = 0.136\\nsamples = 101\\nvalue = 1.549'),\n",
       " Text(0.3359375, 0.07142857142857142, 'poisson = 0.052\\nsamples = 173\\nvalue = 0.917'),\n",
       " Text(0.359375, 0.21428571428571427, 'X[2] <= 5.101\\npoisson = 0.041\\nsamples = 161\\nvalue = 0.714'),\n",
       " Text(0.3515625, 0.07142857142857142, 'poisson = 0.019\\nsamples = 91\\nvalue = 0.604'),\n",
       " Text(0.3671875, 0.07142857142857142, 'poisson = 0.045\\nsamples = 70\\nvalue = 0.856'),\n",
       " Text(0.4375, 0.5, 'X[2] <= 5.354\\npoisson = 0.129\\nsamples = 843\\nvalue = 1.653'),\n",
       " Text(0.40625, 0.35714285714285715, 'X[6] <= 38.445\\npoisson = 0.114\\nsamples = 519\\nvalue = 1.817'),\n",
       " Text(0.390625, 0.21428571428571427, 'X[5] <= 3.057\\npoisson = 0.107\\nsamples = 490\\nvalue = 1.862'),\n",
       " Text(0.3828125, 0.07142857142857142, 'poisson = 0.116\\nsamples = 282\\nvalue = 2.026'),\n",
       " Text(0.3984375, 0.07142857142857142, 'poisson = 0.072\\nsamples = 208\\nvalue = 1.638'),\n",
       " Text(0.421875, 0.21428571428571427, 'X[1] <= 24.5\\npoisson = 0.036\\nsamples = 29\\nvalue = 1.065'),\n",
       " Text(0.4140625, 0.07142857142857142, 'poisson = 0.031\\nsamples = 19\\nvalue = 1.169'),\n",
       " Text(0.4296875, 0.07142857142857142, 'poisson = 0.016\\nsamples = 10\\nvalue = 0.867'),\n",
       " Text(0.46875, 0.35714285714285715, 'X[1] <= 38.5\\npoisson = 0.118\\nsamples = 324\\nvalue = 1.39'),\n",
       " Text(0.453125, 0.21428571428571427, 'X[0] <= 3.553\\npoisson = 0.08\\nsamples = 278\\nvalue = 1.278'),\n",
       " Text(0.4453125, 0.07142857142857142, 'poisson = 0.056\\nsamples = 154\\nvalue = 1.14'),\n",
       " Text(0.4609375, 0.07142857142857142, 'poisson = 0.09\\nsamples = 124\\nvalue = 1.45'),\n",
       " Text(0.484375, 0.21428571428571427, 'X[0] <= 3.523\\npoisson = 0.176\\nsamples = 46\\nvalue = 2.066'),\n",
       " Text(0.4765625, 0.07142857142857142, 'poisson = 0.116\\nsamples = 19\\nvalue = 1.574'),\n",
       " Text(0.4921875, 0.07142857142857142, 'poisson = 0.147\\nsamples = 27\\nvalue = 2.412'),\n",
       " Text(0.75, 0.7857142857142857, 'X[0] <= 6.322\\npoisson = 0.228\\nsamples = 1291\\nvalue = 2.881'),\n",
       " Text(0.625, 0.6428571428571429, 'X[5] <= 2.393\\npoisson = 0.183\\nsamples = 1010\\nvalue = 2.556'),\n",
       " Text(0.5625, 0.5, 'X[1] <= 19.5\\npoisson = 0.173\\nsamples = 199\\nvalue = 3.514'),\n",
       " Text(0.53125, 0.35714285714285715, 'X[0] <= 4.902\\npoisson = 0.17\\nsamples = 52\\nvalue = 2.694'),\n",
       " Text(0.515625, 0.21428571428571427, 'X[2] <= 5.349\\npoisson = 0.13\\nsamples = 32\\nvalue = 2.338'),\n",
       " Text(0.5078125, 0.07142857142857142, 'poisson = 0.116\\nsamples = 21\\nvalue = 2.602'),\n",
       " Text(0.5234375, 0.07142857142857142, 'poisson = 0.069\\nsamples = 11\\nvalue = 1.835'),\n",
       " Text(0.546875, 0.21428571428571427, 'X[7] <= -117.46\\npoisson = 0.138\\nsamples = 20\\nvalue = 3.264'),\n",
       " Text(0.5390625, 0.07142857142857142, 'poisson = 0.103\\nsamples = 18\\nvalue = 3.426'),\n",
       " Text(0.5546875, 0.07142857142857142, 'poisson = 0.025\\nsamples = 2\\nvalue = 1.799'),\n",
       " Text(0.59375, 0.35714285714285715, 'X[5] <= 2.007\\npoisson = 0.126\\nsamples = 147\\nvalue = 3.804'),\n",
       " Text(0.578125, 0.21428571428571427, 'X[3] <= 1.093\\npoisson = 0.062\\nsamples = 50\\nvalue = 4.457'),\n",
       " Text(0.5703125, 0.07142857142857142, 'poisson = 0.07\\nsamples = 31\\nvalue = 4.213'),\n",
       " Text(0.5859375, 0.07142857142857142, 'poisson = 0.02\\nsamples = 19\\nvalue = 4.855'),\n",
       " Text(0.609375, 0.21428571428571427, 'X[6] <= 38.49\\npoisson = 0.116\\nsamples = 97\\nvalue = 3.468'),\n",
       " Text(0.6015625, 0.07142857142857142, 'poisson = 0.099\\nsamples = 94\\nvalue = 3.527'),\n",
       " Text(0.6171875, 0.07142857142857142, 'poisson = 0.011\\nsamples = 3\\nvalue = 1.601'),\n",
       " Text(0.6875, 0.5, 'X[0] <= 5.148\\npoisson = 0.135\\nsamples = 811\\nvalue = 2.321'),\n",
       " Text(0.65625, 0.35714285714285715, 'X[5] <= 2.836\\npoisson = 0.109\\nsamples = 496\\nvalue = 2.064'),\n",
       " Text(0.640625, 0.21428571428571427, 'X[1] <= 21.5\\npoisson = 0.131\\nsamples = 213\\nvalue = 2.338'),\n",
       " Text(0.6328125, 0.07142857142857142, 'poisson = 0.1\\nsamples = 52\\nvalue = 1.847'),\n",
       " Text(0.6484375, 0.07142857142857142, 'poisson = 0.118\\nsamples = 161\\nvalue = 2.497'),\n",
       " Text(0.671875, 0.21428571428571427, 'X[7] <= -121.68\\npoisson = 0.069\\nsamples = 283\\nvalue = 1.858'),\n",
       " Text(0.6640625, 0.07142857142857142, 'poisson = 0.063\\nsamples = 69\\nvalue = 2.146'),\n",
       " Text(0.6796875, 0.07142857142857142, 'poisson = 0.062\\nsamples = 214\\nvalue = 1.766'),\n",
       " Text(0.71875, 0.35714285714285715, 'X[5] <= 2.926\\npoisson = 0.119\\nsamples = 315\\nvalue = 2.726'),\n",
       " Text(0.703125, 0.21428571428571427, 'X[7] <= -122.235\\npoisson = 0.12\\nsamples = 169\\nvalue = 3.022'),\n",
       " Text(0.6953125, 0.07142857142857142, 'poisson = 0.066\\nsamples = 26\\nvalue = 3.734'),\n",
       " Text(0.7109375, 0.07142857142857142, 'poisson = 0.113\\nsamples = 143\\nvalue = 2.892'),\n",
       " Text(0.734375, 0.21428571428571427, 'X[1] <= 49.0\\npoisson = 0.078\\nsamples = 146\\nvalue = 2.383'),\n",
       " Text(0.7265625, 0.07142857142857142, 'poisson = 0.067\\nsamples = 144\\nvalue = 2.351'),\n",
       " Text(0.7421875, 0.07142857142857142, 'poisson = 0.004\\nsamples = 2\\nvalue = 4.702'),\n",
       " Text(0.875, 0.6428571428571429, 'X[0] <= 7.773\\npoisson = 0.113\\nsamples = 281\\nvalue = 4.046'),\n",
       " Text(0.8125, 0.5, 'X[1] <= 25.5\\npoisson = 0.108\\nsamples = 143\\nvalue = 3.507'),\n",
       " Text(0.78125, 0.35714285714285715, 'X[5] <= 2.779\\npoisson = 0.076\\nsamples = 88\\nvalue = 3.115'),\n",
       " Text(0.765625, 0.21428571428571427, 'X[2] <= 7.489\\npoisson = 0.069\\nsamples = 24\\nvalue = 3.495'),\n",
       " Text(0.7578125, 0.07142857142857142, 'poisson = 0.058\\nsamples = 17\\nvalue = 3.262'),\n",
       " Text(0.7734375, 0.07142857142857142, 'poisson = 0.034\\nsamples = 7\\nvalue = 4.062'),\n",
       " Text(0.796875, 0.21428571428571427, 'X[7] <= -117.43\\npoisson = 0.066\\nsamples = 64\\nvalue = 2.973'),\n",
       " Text(0.7890625, 0.07142857142857142, 'poisson = 0.059\\nsamples = 47\\nvalue = 3.101'),\n",
       " Text(0.8046875, 0.07142857142857142, 'poisson = 0.057\\nsamples = 17\\nvalue = 2.618'),\n",
       " Text(0.84375, 0.35714285714285715, 'X[5] <= 2.48\\npoisson = 0.071\\nsamples = 55\\nvalue = 4.133'),\n",
       " Text(0.828125, 0.21428571428571427, 'X[7] <= -118.33\\npoisson = 0.024\\nsamples = 16\\nvalue = 4.595'),\n",
       " Text(0.8203125, 0.07142857142857142, 'poisson = 0.01\\nsamples = 11\\nvalue = 4.837'),\n",
       " Text(0.8359375, 0.07142857142857142, 'poisson = 0.009\\nsamples = 5\\nvalue = 4.064'),\n",
       " Text(0.859375, 0.21428571428571427, 'X[4] <= 315.0\\npoisson = 0.075\\nsamples = 39\\nvalue = 3.943'),\n",
       " Text(0.8515625, 0.07142857142857142, 'poisson = 0.108\\nsamples = 2\\nvalue = 2.444'),\n",
       " Text(0.8671875, 0.07142857142857142, 'poisson = 0.055\\nsamples = 37\\nvalue = 4.024'),\n",
       " Text(0.9375, 0.5, 'X[1] <= 18.5\\npoisson = 0.043\\nsamples = 138\\nvalue = 4.605'),\n",
       " Text(0.90625, 0.35714285714285715, 'X[0] <= 8.878\\npoisson = 0.064\\nsamples = 42\\nvalue = 4.179'),\n",
       " Text(0.890625, 0.21428571428571427, 'X[3] <= 0.976\\npoisson = 0.061\\nsamples = 24\\nvalue = 3.869'),\n",
       " Text(0.8828125, 0.07142857142857142, 'poisson = 0.092\\nsamples = 7\\nvalue = 3.224'),\n",
       " Text(0.8984375, 0.07142857142857142, 'poisson = 0.015\\nsamples = 17\\nvalue = 4.134'),\n",
       " Text(0.921875, 0.21428571428571427, 'X[2] <= 16.367\\npoisson = 0.034\\nsamples = 18\\nvalue = 4.591'),\n",
       " Text(0.9140625, 0.07142857142857142, 'poisson = 0.023\\nsamples = 16\\nvalue = 4.708'),\n",
       " Text(0.9296875, 0.07142857142857142, 'poisson = 0.004\\nsamples = 2\\nvalue = 3.662'),\n",
       " Text(0.96875, 0.35714285714285715, 'X[0] <= 9.057\\npoisson = 0.021\\nsamples = 96\\nvalue = 4.792'),\n",
       " Text(0.953125, 0.21428571428571427, 'X[2] <= 8.214\\npoisson = 0.031\\nsamples = 45\\nvalue = 4.608'),\n",
       " Text(0.9453125, 0.07142857142857142, 'poisson = 0.025\\nsamples = 42\\nvalue = 4.674'),\n",
       " Text(0.9609375, 0.07142857142857142, 'poisson = 0.015\\nsamples = 3\\nvalue = 3.675'),\n",
       " Text(0.984375, 0.21428571428571427, 'X[4] <= 44.5\\npoisson = 0.005\\nsamples = 51\\nvalue = 4.954'),\n",
       " Text(0.9765625, 0.07142857142857142, 'poisson = 0.0\\nsamples = 1\\nvalue = 3.5'),\n",
       " Text(0.9921875, 0.07142857142857142, 'poisson = 0.001\\nsamples = 50\\nvalue = 4.984')]"
      ]
     },
     "execution_count": 28,
     "metadata": {},
     "output_type": "execute_result"
    },
    {
     "data": {
      "image/png": "[encoded data removed]",
      "text/plain": [
       "<Figure size 1200x1000 with 1 Axes>"
      ]
     },
     "metadata": {},
     "output_type": "display_data"
    }
   ],
   "source": [
    "from sklearn import tree\n",
    "plt.figure(figsize=(12,10))\n",
    "tree.plot_tree(regressor1, filled=True)"
   ]
  },
  {
   "cell_type": "code",
   "execution_count": 30,
   "id": "0f7e834c",
   "metadata": {},
   "outputs": [],
   "source": [
    "y_pred=regressor1.predict(X_test)"
   ]
  },
  {
   "cell_type": "code",
   "execution_count": 31,
   "id": "1f7c48e7",
   "metadata": {},
   "outputs": [],
   "source": [
    "score2=r2_score(y_pred,y_test)"
   ]
  },
  {
   "cell_type": "code",
   "execution_count": 32,
   "id": "9f17e50c",
   "metadata": {},
   "outputs": [
    {
     "data": {
      "text/plain": [
       "0.5020788145004209"
      ]
     },
     "execution_count": 32,
     "metadata": {},
     "output_type": "execute_result"
    }
   ],
   "source": [
    "score2"
   ]
  },
  {
   "cell_type": "code",
   "execution_count": 33,
   "id": "4380fa90",
   "metadata": {},
   "outputs": [],
   "source": [
    "y_pred=regressorcv.predict(X_test)"
   ]
  },
  {
   "cell_type": "code",
   "execution_count": 34,
   "id": "7521c3fc",
   "metadata": {},
   "outputs": [],
   "source": [
    "score3=r2_score(y_pred,y_test)"
   ]
  },
  {
   "cell_type": "code",
   "execution_count": 35,
   "id": "6b80b5ba",
   "metadata": {},
   "outputs": [
    {
     "data": {
      "text/plain": [
       "0.5053831459474469"
      ]
     },
     "execution_count": 35,
     "metadata": {},
     "output_type": "execute_result"
    }
   ],
   "source": [
    "score3"
   ]
  },
  {
   "cell_type": "code",
   "execution_count": null,
   "id": "07b617ad",
   "metadata": {},
   "outputs": [],
   "source": []
  },
  {
   "cell_type": "code",
   "execution_count": null,
   "id": "6b6c9fda",
   "metadata": {},
   "outputs": [],
   "source": []
  },
  {
   "cell_type": "code",
   "execution_count": null,
   "id": "dcfadddc",
   "metadata": {},
   "outputs": [],
   "source": []
  },
  {
   "cell_type": "code",
   "execution_count": null,
   "id": "a9877e76",
   "metadata": {},
   "outputs": [],
   "source": []
  },
  {
   "cell_type": "code",
   "execution_count": null,
   "id": "879f4cf0",
   "metadata": {},
   "outputs": [],
   "source": []
  },
  {
   "cell_type": "code",
   "execution_count": null,
   "id": "c434001d",
   "metadata": {},
   "outputs": [],
   "source": []
  },
  {
   "cell_type": "code",
   "execution_count": null,
   "id": "97d13923",
   "metadata": {},
   "outputs": [],
   "source": []
  },
  {
   "cell_type": "code",
   "execution_count": null,
   "id": "6004994c",
   "metadata": {},
   "outputs": [],
   "source": []
  },
  {
   "cell_type": "code",
   "execution_count": null,
   "id": "3bc4f5e7",
   "metadata": {},
   "outputs": [],
   "source": []
  },
  {
   "cell_type": "code",
   "execution_count": null,
   "id": "44a531cf",
   "metadata": {},
   "outputs": [],
   "source": []
  },
  {
   "cell_type": "code",
   "execution_count": null,
   "id": "5058a027",
   "metadata": {},
   "outputs": [],
   "source": []
  },
  {
   "cell_type": "code",
   "execution_count": null,
   "id": "4f8ce66a",
   "metadata": {},
   "outputs": [],
   "source": []
  },
  {
   "cell_type": "code",
   "execution_count": null,
   "id": "02d230c4",
   "metadata": {},
   "outputs": [],
   "source": []
  },
  {
   "cell_type": "code",
   "execution_count": null,
   "id": "89ac070c",
   "metadata": {},
   "outputs": [],
   "source": []
  },
  {
   "cell_type": "code",
   "execution_count": null,
   "id": "7165a5ff",
   "metadata": {},
   "outputs": [],
   "source": []
  },
  {
   "cell_type": "code",
   "execution_count": null,
   "id": "97524f3c",
   "metadata": {},
   "outputs": [],
   "source": []
  },
  {
   "cell_type": "code",
   "execution_count": null,
   "id": "ddf1fa7b",
   "metadata": {},
   "outputs": [],
   "source": []
  },
  {
   "cell_type": "code",
   "execution_count": null,
   "id": "79213f03",
   "metadata": {},
   "outputs": [],
   "source": []
  },
  {
   "cell_type": "code",
   "execution_count": null,
   "id": "db5dd441",
   "metadata": {},
   "outputs": [],
   "source": []
  },
  {
   "cell_type": "code",
   "execution_count": null,
   "id": "f360a0d3",
   "metadata": {},
   "outputs": [],
   "source": []
  },
  {
   "cell_type": "code",
   "execution_count": null,
   "id": "5787c96d",
   "metadata": {},
   "outputs": [],
   "source": []
  }
 ],
 "metadata": {
  "kernelspec": {
   "display_name": "Python 3 (ipykernel)",
   "language": "python",
   "name": "python3"
  },
  "language_info": {
   "codemirror_mode": {
    "name": "ipython",
    "version": 3
   },
   "file_extension": ".py",
   "mimetype": "text/x-python",
   "name": "python",
   "nbconvert_exporter": "python",
   "pygments_lexer": "ipython3",
   "version": "3.11.7"
  }
 },
 "nbformat": 4,
 "nbformat_minor": 5
}
