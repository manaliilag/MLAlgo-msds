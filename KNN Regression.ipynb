{
 "cells": [
  {
   "cell_type": "code",
   "execution_count": 1,
   "id": "275ada6c",
   "metadata": {},
   "outputs": [],
   "source": [
    "import pandas as pd\n",
    "import numpy as np\n",
    "import matplotlib.pyplot as plt\n",
    "import seaborn as sns\n",
    "%matplotlib inline"
   ]
  },
  {
   "cell_type": "code",
   "execution_count": 2,
   "id": "99bf1fca",
   "metadata": {},
   "outputs": [],
   "source": [
    "from sklearn.datasets import make_regression"
   ]
  },
  {
   "cell_type": "code",
   "execution_count": 3,
   "id": "9f385f05",
   "metadata": {},
   "outputs": [],
   "source": [
    "X, y = make_regression(n_samples=1000, n_features=3, random_state=999)"
   ]
  },
  {
   "cell_type": "code",
   "execution_count": 5,
   "id": "7c8386ed",
   "metadata": {},
   "outputs": [
    {
     "data": {
      "text/plain": [
       "(1000, 3)"
      ]
     },
     "execution_count": 5,
     "metadata": {},
     "output_type": "execute_result"
    }
   ],
   "source": [
    "X.shape"
   ]
  },
  {
   "cell_type": "code",
   "execution_count": 7,
   "id": "112df8ed",
   "metadata": {},
   "outputs": [
    {
     "data": {
      "text/plain": [
       "(1000,)"
      ]
     },
     "execution_count": 7,
     "metadata": {},
     "output_type": "execute_result"
    }
   ],
   "source": [
    "y.shape"
   ]
  },
  {
   "cell_type": "code",
   "execution_count": 8,
   "id": "c0b77ed6",
   "metadata": {},
   "outputs": [],
   "source": [
    "from sklearn.model_selection import train_test_split"
   ]
  },
  {
   "cell_type": "code",
   "execution_count": 9,
   "id": "6496590f",
   "metadata": {},
   "outputs": [],
   "source": [
    "X_train, X_test, y_train, y_test = train_test_split(X, y, test_size=0.33, random_state=42 )"
   ]
  },
  {
   "cell_type": "code",
   "execution_count": 10,
   "id": "05016fbd",
   "metadata": {},
   "outputs": [],
   "source": [
    "from sklearn.neighbors import KNeighborsRegressor"
   ]
  },
  {
   "cell_type": "code",
   "execution_count": 11,
   "id": "eb12e587",
   "metadata": {},
   "outputs": [],
   "source": [
    "reg1 = KNeighborsRegressor(n_neighbors=5, algorithm='auto')"
   ]
  },
  {
   "cell_type": "code",
   "execution_count": 12,
   "id": "d8226113",
   "metadata": {},
   "outputs": [
    {
     "data": {
      "text/html": [
       "<style>#sk-container-id-1 {color: black;background-color: white;}#sk-container-id-1 pre{padding: 0;}#sk-container-id-1 div.sk-toggleable {background-color: white;}#sk-container-id-1 label.sk-toggleable__label {cursor: pointer;display: block;width: 100%;margin-bottom: 0;padding: 0.3em;box-sizing: border-box;text-align: center;}#sk-container-id-1 label.sk-toggleable__label-arrow:before {content: \"▸\";float: left;margin-right: 0.25em;color: #696969;}#sk-container-id-1 label.sk-toggleable__label-arrow:hover:before {color: black;}#sk-container-id-1 div.sk-estimator:hover label.sk-toggleable__label-arrow:before {color: black;}#sk-container-id-1 div.sk-toggleable__content {max-height: 0;max-width: 0;overflow: hidden;text-align: left;background-color: #f0f8ff;}#sk-container-id-1 div.sk-toggleable__content pre {margin: 0.2em;color: black;border-radius: 0.25em;background-color: #f0f8ff;}#sk-container-id-1 input.sk-toggleable__control:checked~div.sk-toggleable__content {max-height: 200px;max-width: 100%;overflow: auto;}#sk-container-id-1 input.sk-toggleable__control:checked~label.sk-toggleable__label-arrow:before {content: \"▾\";}#sk-container-id-1 div.sk-estimator input.sk-toggleable__control:checked~label.sk-toggleable__label {background-color: #d4ebff;}#sk-container-id-1 div.sk-label input.sk-toggleable__control:checked~label.sk-toggleable__label {background-color: #d4ebff;}#sk-container-id-1 input.sk-hidden--visually {border: 0;clip: rect(1px 1px 1px 1px);clip: rect(1px, 1px, 1px, 1px);height: 1px;margin: -1px;overflow: hidden;padding: 0;position: absolute;width: 1px;}#sk-container-id-1 div.sk-estimator {font-family: monospace;background-color: #f0f8ff;border: 1px dotted black;border-radius: 0.25em;box-sizing: border-box;margin-bottom: 0.5em;}#sk-container-id-1 div.sk-estimator:hover {background-color: #d4ebff;}#sk-container-id-1 div.sk-parallel-item::after {content: \"\";width: 100%;border-bottom: 1px solid gray;flex-grow: 1;}#sk-container-id-1 div.sk-label:hover label.sk-toggleable__label {background-color: #d4ebff;}#sk-container-id-1 div.sk-serial::before {content: \"\";position: absolute;border-left: 1px solid gray;box-sizing: border-box;top: 0;bottom: 0;left: 50%;z-index: 0;}#sk-container-id-1 div.sk-serial {display: flex;flex-direction: column;align-items: center;background-color: white;padding-right: 0.2em;padding-left: 0.2em;position: relative;}#sk-container-id-1 div.sk-item {position: relative;z-index: 1;}#sk-container-id-1 div.sk-parallel {display: flex;align-items: stretch;justify-content: center;background-color: white;position: relative;}#sk-container-id-1 div.sk-item::before, #sk-container-id-1 div.sk-parallel-item::before {content: \"\";position: absolute;border-left: 1px solid gray;box-sizing: border-box;top: 0;bottom: 0;left: 50%;z-index: -1;}#sk-container-id-1 div.sk-parallel-item {display: flex;flex-direction: column;z-index: 1;position: relative;background-color: white;}#sk-container-id-1 div.sk-parallel-item:first-child::after {align-self: flex-end;width: 50%;}#sk-container-id-1 div.sk-parallel-item:last-child::after {align-self: flex-start;width: 50%;}#sk-container-id-1 div.sk-parallel-item:only-child::after {width: 0;}#sk-container-id-1 div.sk-dashed-wrapped {border: 1px dashed gray;margin: 0 0.4em 0.5em 0.4em;box-sizing: border-box;padding-bottom: 0.4em;background-color: white;}#sk-container-id-1 div.sk-label label {font-family: monospace;font-weight: bold;display: inline-block;line-height: 1.2em;}#sk-container-id-1 div.sk-label-container {text-align: center;}#sk-container-id-1 div.sk-container {/* jupyter's `normalize.less` sets `[hidden] { display: none; }` but bootstrap.min.css set `[hidden] { display: none !important; }` so we also need the `!important` here to be able to override the default hidden behavior on the sphinx rendered scikit-learn.org. See: https://github.com/scikit-learn/scikit-learn/issues/21755 */display: inline-block !important;position: relative;}#sk-container-id-1 div.sk-text-repr-fallback {display: none;}</style><div id=\"sk-container-id-1\" class=\"sk-top-container\"><div class=\"sk-text-repr-fallback\"><pre>KNeighborsRegressor()</pre><b>In a Jupyter environment, please rerun this cell to show the HTML representation or trust the notebook. <br />On GitHub, the HTML representation is unable to render, please try loading this page with nbviewer.org.</b></div><div class=\"sk-container\" hidden><div class=\"sk-item\"><div class=\"sk-estimator sk-toggleable\"><input class=\"sk-toggleable__control sk-hidden--visually\" id=\"sk-estimator-id-1\" type=\"checkbox\" checked><label for=\"sk-estimator-id-1\" class=\"sk-toggleable__label sk-toggleable__label-arrow\">KNeighborsRegressor</label><div class=\"sk-toggleable__content\"><pre>KNeighborsRegressor()</pre></div></div></div></div></div>"
      ],
      "text/plain": [
       "KNeighborsRegressor()"
      ]
     },
     "execution_count": 12,
     "metadata": {},
     "output_type": "execute_result"
    }
   ],
   "source": [
    "reg1.fit(X_train, y_train)"
   ]
  },
  {
   "cell_type": "code",
   "execution_count": 13,
   "id": "ec3aadc2",
   "metadata": {},
   "outputs": [],
   "source": [
    "y_predict_r1 = reg1.predict(X_test)"
   ]
  },
  {
   "cell_type": "code",
   "execution_count": 14,
   "id": "51306e5f",
   "metadata": {},
   "outputs": [
    {
     "data": {
      "text/plain": [
       "array([-3.09325489e+01,  2.42201011e+01, -8.50723630e+01,  4.35941534e+01,\n",
       "       -8.53297327e+01,  1.06889879e+02, -9.60655682e+01, -2.72063497e+00,\n",
       "       -4.93949878e+01, -4.90075910e+01,  8.00113101e+01, -1.10450154e+02,\n",
       "       -1.05197437e+01, -3.68153978e+01, -2.92620517e+01, -6.58854966e+01,\n",
       "       -1.05736038e+02, -2.29295206e+00,  1.32853126e+02, -3.18496059e+01,\n",
       "        8.48730933e+01,  9.39381154e+01,  1.57766240e+02, -2.08546025e+01,\n",
       "        2.36669034e+01, -8.15172361e+01,  1.51614845e+01,  1.11014566e+02,\n",
       "        4.79161655e+01, -2.04728909e+01,  4.72509094e+01, -6.28463407e+01,\n",
       "       -4.66914689e-01, -1.04369858e+01, -1.90779505e+01,  5.34061253e+01,\n",
       "        1.13316872e+02,  3.24840402e+01,  7.62493339e+00,  6.39226508e+01,\n",
       "       -1.09582829e+02,  2.06880006e+01,  7.17696584e+01,  2.47954560e+01,\n",
       "        9.24812645e+01,  3.01703892e+01,  1.15941489e+01, -8.58804324e+01,\n",
       "        4.76029039e+01, -4.31949945e+01, -1.93683176e+01,  9.30243707e+01,\n",
       "        2.69641098e+01, -1.00618006e+02, -1.38967361e+01,  8.43910669e+01,\n",
       "       -1.55265546e+01,  5.35204019e+01, -5.01735610e+01,  3.46200435e+01,\n",
       "        1.58962717e+01,  2.16896859e+01, -6.76441780e+01,  1.09407898e+01,\n",
       "        7.58421658e+01,  5.76790618e+01, -7.62817098e+00,  6.77605289e+01,\n",
       "        2.10577903e+01,  2.51215896e+01,  2.49948646e+01,  6.32806529e+00,\n",
       "        1.23137312e+02,  4.10623641e+01, -6.76330260e+01, -3.42561327e+01,\n",
       "       -5.12935316e+01,  3.92378280e+01,  6.40136562e+01, -2.65949415e+01,\n",
       "        4.45468000e+01,  4.95973390e+01, -1.65901156e+02, -1.13539219e+01,\n",
       "        6.04747706e+01, -4.08592725e+01,  5.01260554e+01,  2.69182643e+01,\n",
       "        5.83309193e+01,  1.60519955e+00,  1.20878200e+02,  1.73659696e+02,\n",
       "       -1.56557472e+02,  6.46065821e+01, -1.18090668e+02, -1.05161465e+01,\n",
       "        2.51407565e+01, -1.59899463e+02,  1.66497663e+01, -2.38997982e+01,\n",
       "        3.82265486e+01,  2.86136669e+01, -2.70412585e+01,  3.81377738e+01,\n",
       "       -2.51786814e+01, -2.43683211e+01, -3.18239201e+01,  4.39547210e+00,\n",
       "        1.70767716e+01, -1.35797601e+02, -1.73763805e+02, -1.16269288e+02,\n",
       "        1.05090756e+01,  9.15578201e+01,  4.69790239e+01, -6.40621505e-01,\n",
       "        5.41845979e+01,  1.80728706e+01,  3.74849820e+01, -1.05345773e+02,\n",
       "        2.37882641e+01,  8.88745904e+01,  4.69343600e+01, -1.10110231e+02,\n",
       "       -1.32454803e+02,  9.27130536e+01, -4.63155366e+01, -1.12533222e+02,\n",
       "       -8.42280077e+01, -1.23334197e+02,  2.19969880e+01, -5.58100824e+01,\n",
       "       -2.68184058e+01,  1.90246871e+01,  1.06440544e+00, -4.03231489e+01,\n",
       "        1.09730873e+01,  8.81383546e+01, -3.46887284e+01,  9.65893576e+01,\n",
       "        3.36226722e+01,  5.22763821e+00, -1.24274375e+02,  1.41022001e+02,\n",
       "        4.00830054e+01, -4.31622928e+01, -2.55724777e+01,  1.23842264e+02,\n",
       "       -8.81585970e+01,  4.89674381e+01,  3.49525463e+01, -1.16845769e+02,\n",
       "        9.64535555e+01, -5.80438160e+01,  8.47809037e+00,  3.27922028e+01,\n",
       "       -3.56541453e+01, -1.02096729e+02,  6.38119892e+00,  9.85112164e-01,\n",
       "        3.52496924e+01,  9.92435186e+01,  3.50858903e+01,  1.46487959e+01,\n",
       "        2.02562712e+01,  6.68834716e+01,  7.20174251e+01, -9.25054364e+01,\n",
       "        1.19165228e+02,  1.75214209e+01, -6.00079769e+01,  6.88524877e+00,\n",
       "       -1.01866007e+01,  3.73670852e+01, -1.24693779e+01, -1.02820887e+02,\n",
       "        4.69343600e+01,  4.42654071e+01, -3.99342733e+00, -4.04066409e+01,\n",
       "       -9.91070152e+01, -5.60772632e+01,  4.60209555e+00, -4.72970397e+01,\n",
       "       -8.98942684e+01,  1.06488191e+02, -8.20357937e+01,  1.33357042e+01,\n",
       "       -4.99471530e+00, -1.49718163e+01,  4.10484397e+01,  1.13403997e+02,\n",
       "        8.02104365e+01,  2.82548418e+00,  2.85082919e+01, -5.74083682e+01,\n",
       "        2.07880227e+01, -2.38806493e+01, -1.64472104e+01,  6.27620006e+01,\n",
       "        1.34464622e+02,  2.93805785e+01,  3.51035230e+01, -1.47031034e+01,\n",
       "        1.40410362e+02,  7.30605994e+01,  1.63763625e+01,  1.28187054e+02,\n",
       "        1.42215951e+01, -1.29730708e+01, -8.27499277e+00,  9.64535555e+01,\n",
       "       -6.47971733e+01,  6.17156064e+01,  6.08410941e+01, -1.39993660e+02,\n",
       "        8.17048530e+01, -8.67678134e+01, -4.84268091e+01,  3.01270493e+01,\n",
       "        2.32173173e+01,  8.30872165e+01,  1.08738170e+02, -3.09236603e+01,\n",
       "        1.53189080e+02, -2.57924830e+01, -3.87707760e+01, -1.95726054e+01,\n",
       "        3.09573671e+01, -1.12225658e+02,  5.18941503e+00,  4.40973489e+01,\n",
       "        1.94304024e+01, -3.61778803e+01,  1.64978514e+02,  3.96673322e+01,\n",
       "       -1.18236711e+02,  7.27350130e+01,  7.85858181e+01,  7.45297412e+01,\n",
       "        3.40327013e+01, -7.78081952e+01, -1.74802863e+00, -1.40296106e+01,\n",
       "       -6.41535516e+00,  1.11642244e+02, -1.59897816e+02,  7.20174251e+01,\n",
       "        7.67724429e+01, -3.57075623e+01, -5.80340704e+01,  3.99285592e+01,\n",
       "       -2.21339772e+01, -1.05197437e+01, -8.05702499e+01, -1.66391200e+01,\n",
       "        2.86597072e+01,  4.10656447e+01,  3.01295802e+01, -1.44168530e+01,\n",
       "        4.35023137e+01, -8.19692043e+01,  1.44111604e+01,  3.15820265e+01,\n",
       "       -7.90091673e+00,  1.12105811e+02, -3.53041219e+01,  8.95589709e+01,\n",
       "        4.38637644e+01, -4.64571260e+01,  1.21686848e+02,  5.18875081e+01,\n",
       "       -1.01852531e+02,  7.30923090e+01, -2.28599557e+01, -7.12435518e+01,\n",
       "        2.07342700e+01, -8.73793653e+01, -3.18496059e+01, -2.08546025e+01,\n",
       "       -3.51922883e+01,  1.12179461e+02,  1.32853126e+02, -5.14201530e+01,\n",
       "        3.03337146e+01,  7.00579274e+01, -9.06335712e+01, -2.46383989e+01,\n",
       "       -1.43485043e+02, -4.96949467e+01,  1.64089577e-01, -1.66425282e+01,\n",
       "        7.73357624e+01, -3.86754252e+00,  2.88425759e+01,  3.39584680e+01,\n",
       "       -3.87707760e+01, -4.03679826e+01, -3.96695234e+01, -7.45692245e+01,\n",
       "       -1.30437559e+02,  2.27042205e+00, -4.69487870e+00,  9.17831787e+01,\n",
       "       -7.06724611e+01, -1.14560047e+02,  1.68821995e+02, -3.21357955e+01,\n",
       "        6.88806926e+00,  9.41148069e+01, -7.26684030e+01, -1.16828631e+02,\n",
       "        4.06751959e+01,  7.74044818e+01,  5.35804423e+01,  5.37138507e+01,\n",
       "       -1.41543144e+02,  1.07485097e+02, -4.74046102e+00,  7.33208848e+01,\n",
       "        8.69305932e+01,  4.72916512e+01,  3.77772070e+01, -1.03654557e+02,\n",
       "        6.02392740e+01, -1.04846566e+00,  8.06883000e+01, -7.30818879e+01,\n",
       "       -2.35974023e+01, -1.38804438e+01])"
      ]
     },
     "execution_count": 14,
     "metadata": {},
     "output_type": "execute_result"
    }
   ],
   "source": [
    "y_predict_r1"
   ]
  },
  {
   "cell_type": "code",
   "execution_count": 15,
   "id": "59065639",
   "metadata": {},
   "outputs": [
    {
     "name": "stdout",
     "output_type": "stream",
     "text": [
      "0.9630360717754007\n",
      "223.60591016124616\n",
      "9.25576013894143\n"
     ]
    }
   ],
   "source": [
    "from sklearn.metrics import r2_score, mean_squared_error, mean_absolute_error\n",
    "print(r2_score(y_test, y_predict_r1))\n",
    "print(mean_squared_error(y_test, y_predict_r1))\n",
    "print(mean_absolute_error(y_test, y_predict_r1))"
   ]
  },
  {
   "cell_type": "code",
   "execution_count": null,
   "id": "b86fe6a2",
   "metadata": {},
   "outputs": [],
   "source": []
  },
  {
   "cell_type": "code",
   "execution_count": null,
   "id": "360b54eb",
   "metadata": {},
   "outputs": [],
   "source": []
  },
  {
   "cell_type": "code",
   "execution_count": null,
   "id": "cc90829d",
   "metadata": {},
   "outputs": [],
   "source": []
  },
  {
   "cell_type": "code",
   "execution_count": null,
   "id": "96bffdca",
   "metadata": {},
   "outputs": [],
   "source": []
  },
  {
   "cell_type": "code",
   "execution_count": null,
   "id": "7485173d",
   "metadata": {},
   "outputs": [],
   "source": []
  },
  {
   "cell_type": "code",
   "execution_count": null,
   "id": "6fac4982",
   "metadata": {},
   "outputs": [],
   "source": []
  },
  {
   "cell_type": "code",
   "execution_count": null,
   "id": "2e644e98",
   "metadata": {},
   "outputs": [],
   "source": []
  }
 ],
 "metadata": {
  "kernelspec": {
   "display_name": "Python 3 (ipykernel)",
   "language": "python",
   "name": "python3"
  },
  "language_info": {
   "codemirror_mode": {
    "name": "ipython",
    "version": 3
   },
   "file_extension": ".py",
   "mimetype": "text/x-python",
   "name": "python",
   "nbconvert_exporter": "python",
   "pygments_lexer": "ipython3",
   "version": "3.11.7"
  }
 },
 "nbformat": 4,
 "nbformat_minor": 5
}
